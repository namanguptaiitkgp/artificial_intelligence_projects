{
 "cells": [
  {
   "cell_type": "markdown",
   "id": "557eec4f",
   "metadata": {},
   "source": [
    "# Question"
   ]
  },
  {
   "cell_type": "markdown",
   "id": "3091f6c1",
   "metadata": {},
   "source": [
    " The company now wants to predict the cost they should set for a new variant of these kinds of bags based on the attributes below. As a result, they want you to build a prediction model which can correctly set the cost of the bag provided the attributes are given. The task involves the following things:\n",
    "  Analyse the dataset and do EDA (Exploratory Data Analysis) – 6 Marks\n",
    "   Plotting of various graphs & correlations – 2 Marks\n",
    "   Model Building using Multiple Linear Regression – 12 Marks (OLS Approach – 3 Marks, Gradient Descent – 3 Marks,, Mini Batch Gradient – 3 Marks, Stochastic Gradient – 3 Marks)\n",
    "  Evaluation of each model with R squared, RMSE and MSE for the model - 2 Marks  Observations / Conclusions – 2 Marks"
   ]
  },
  {
   "cell_type": "code",
   "execution_count": 606,
   "id": "357366ac",
   "metadata": {},
   "outputs": [],
   "source": [
    "import pandas as pd\n",
    "import sklearn\n",
    "import seaborn as sns\n",
    "import numpy as np\n",
    "import matplotlib.pyplot as plt\n"
   ]
  },
  {
   "cell_type": "code",
   "execution_count": 607,
   "id": "19affaa7",
   "metadata": {},
   "outputs": [],
   "source": [
    "from sklearn import metrics\n",
    "from sklearn import linear_model\n",
    "from sklearn.model_selection import train_test_split\n",
    "from sklearn.model_selection import cross_val_score\n",
    "from sklearn.linear_model import LinearRegression"
   ]
  },
  {
   "cell_type": "code",
   "execution_count": 608,
   "id": "a9a378ac",
   "metadata": {},
   "outputs": [
    {
     "name": "stdout",
     "output_type": "stream",
     "text": [
      "/Users/yashbhinwal\n"
     ]
    }
   ],
   "source": [
    "cd"
   ]
  },
  {
   "cell_type": "code",
   "execution_count": 609,
   "id": "64047316",
   "metadata": {},
   "outputs": [],
   "source": [
    "pd.set_option(\"display.max_rows\", None, \"display.max_columns\", None) #Display Complete Data"
   ]
  },
  {
   "cell_type": "code",
   "execution_count": 610,
   "id": "a021051f",
   "metadata": {},
   "outputs": [],
   "source": [
    "data = pd.read_csv('Downloads/AIML_C5_May 2021_Data_miniproject.csv')"
   ]
  },
  {
   "cell_type": "markdown",
   "id": "2cadad8c",
   "metadata": {},
   "source": [
    "# Analyzing Data"
   ]
  },
  {
   "cell_type": "code",
   "execution_count": 611,
   "id": "88156aae",
   "metadata": {},
   "outputs": [],
   "source": [
    "df = data.copy()"
   ]
  },
  {
   "cell_type": "code",
   "execution_count": 612,
   "id": "3d9246e2",
   "metadata": {},
   "outputs": [
    {
     "data": {
      "text/plain": [
       "Index(['Cost', 'Weight', 'Weight1', 'Length', 'Height', 'Width'], dtype='object')"
      ]
     },
     "execution_count": 612,
     "metadata": {},
     "output_type": "execute_result"
    }
   ],
   "source": [
    "df.columns"
   ]
  },
  {
   "cell_type": "code",
   "execution_count": 613,
   "id": "c3f095c0",
   "metadata": {},
   "outputs": [
    {
     "data": {
      "text/plain": [
       "numpy.float64"
      ]
     },
     "execution_count": 613,
     "metadata": {},
     "output_type": "execute_result"
    }
   ],
   "source": [
    "type(df.iloc[0].Cost)"
   ]
  },
  {
   "cell_type": "code",
   "execution_count": 614,
   "id": "3831187f",
   "metadata": {},
   "outputs": [
    {
     "data": {
      "text/plain": [
       "str"
      ]
     },
     "execution_count": 614,
     "metadata": {},
     "output_type": "execute_result"
    }
   ],
   "source": [
    "type(df.iloc[0].Width)"
   ]
  },
  {
   "cell_type": "code",
   "execution_count": 615,
   "id": "0c50bd24",
   "metadata": {},
   "outputs": [],
   "source": [
    "for int, k in df.iterrows():\n",
    "    try:\n",
    "        df.at[int,\"Width_float\"] = np.float64(k.Width)\n",
    "    except:\n",
    "        df.at[int,\"Width_float\"] = np.float64(0) #Replace place where float value is not there with 0 (will drop these rows later)\n",
    "    "
   ]
  },
  {
   "cell_type": "code",
   "execution_count": 616,
   "id": "83ef9053",
   "metadata": {},
   "outputs": [
    {
     "data": {
      "text/plain": [
       "count       158.000000\n",
       "mean       3801.834992\n",
       "std       47733.087477\n",
       "min           0.000000\n",
       "25%           3.380625\n",
       "50%           4.248050\n",
       "75%           5.586750\n",
       "max      600000.000000\n",
       "Name: Width_float, dtype: float64"
      ]
     },
     "execution_count": 616,
     "metadata": {},
     "output_type": "execute_result"
    }
   ],
   "source": [
    "df.Width_float.describe()"
   ]
  },
  {
   "cell_type": "markdown",
   "id": "74e6d025",
   "metadata": {},
   "source": [
    "Maximum value in Width column is an outlier, need to replace this with mean/median/mode"
   ]
  },
  {
   "cell_type": "code",
   "execution_count": 617,
   "id": "80db5a1c",
   "metadata": {},
   "outputs": [],
   "source": [
    "for int, k in df.iterrows():\n",
    "    try:\n",
    "        df.at[int,\"Length_float\"] = np.float64(k.Length)\n",
    "    except:\n",
    "        df.at[int,\"Length_float\"] = np.float64(0)\n",
    "    "
   ]
  },
  {
   "cell_type": "code",
   "execution_count": 618,
   "id": "781ab750",
   "metadata": {},
   "outputs": [
    {
     "data": {
      "text/plain": [
       "count    159.000000\n",
       "mean      31.042767\n",
       "std       11.870629\n",
       "min        0.000000\n",
       "25%       22.950000\n",
       "50%       29.400000\n",
       "75%       39.650000\n",
       "max       68.000000\n",
       "Name: Length_float, dtype: float64"
      ]
     },
     "execution_count": 618,
     "metadata": {},
     "output_type": "execute_result"
    }
   ],
   "source": [
    "df.Length_float.describe()"
   ]
  },
  {
   "cell_type": "code",
   "execution_count": 619,
   "id": "92df27a7",
   "metadata": {},
   "outputs": [],
   "source": [
    "for int, k in df.iterrows():\n",
    "    try:\n",
    "        df.at[int,\"Weight_float\"] = np.float64(k.Weight)\n",
    "    except:\n",
    "        df.at[int,\"Weight_float\"] = np.float64(0)\n",
    "    "
   ]
  },
  {
   "cell_type": "code",
   "execution_count": 620,
   "id": "56caeff5",
   "metadata": {
    "scrolled": true
   },
   "outputs": [
    {
     "data": {
      "text/plain": [
       "count    159.000000\n",
       "mean      25.929560\n",
       "std       10.411602\n",
       "min        0.000000\n",
       "25%       19.000000\n",
       "50%       25.000000\n",
       "75%       32.700000\n",
       "max       59.000000\n",
       "Name: Weight_float, dtype: float64"
      ]
     },
     "execution_count": 620,
     "metadata": {},
     "output_type": "execute_result"
    }
   ],
   "source": [
    "df.Weight_float.describe()"
   ]
  },
  {
   "cell_type": "markdown",
   "id": "61381d9e",
   "metadata": {},
   "source": [
    "# Removing Outliers"
   ]
  },
  {
   "cell_type": "markdown",
   "id": "231ca3b0",
   "metadata": {},
   "source": [
    "Use Percentile Method/ IQR / Z Score (Normal Distribution) / SD.\n",
    "The Z-score is the signed number of standard deviations by which the value of an observation or data point is above the mean value of what is being observed or measured.\n",
    "Reference Link - https://www.kaggle.com/vaishnavikhilari/boston-house-price-prediction/notebook"
   ]
  },
  {
   "cell_type": "code",
   "execution_count": 621,
   "id": "d6124b81",
   "metadata": {},
   "outputs": [
    {
     "data": {
      "text/plain": [
       "<AxesSubplot:>"
      ]
     },
     "execution_count": 621,
     "metadata": {},
     "output_type": "execute_result"
    },
    {
     "data": {
      "image/png": "[encoded data removed]",
      "text/plain": [
       "<Figure size 720x432 with 1 Axes>"
      ]
     },
     "metadata": {
      "needs_background": "light"
     },
     "output_type": "display_data"
    }
   ],
   "source": [
    "sns.boxplot(data=df[['Weight1','Height','Length_float','Weight_float']],orient='h',palette='Set2')\n"
   ]
  },
  {
   "cell_type": "code",
   "execution_count": 622,
   "id": "82d7069a",
   "metadata": {},
   "outputs": [
    {
     "name": "stdout",
     "output_type": "stream",
     "text": [
      "AxesSubplot(0.125,0.125;0.775x0.755)\n"
     ]
    },
    {
     "data": {
      "image/png": "[encoded data removed]",
      "text/plain": [
       "<Figure size 720x432 with 1 Axes>"
      ]
     },
     "metadata": {
      "needs_background": "light"
     },
     "output_type": "display_data"
    }
   ],
   "source": [
    "print(sns.boxplot(x=df['Cost']))"
   ]
  },
  {
   "cell_type": "code",
   "execution_count": 623,
   "id": "204f84bf",
   "metadata": {},
   "outputs": [
    {
     "data": {
      "text/plain": [
       "<AxesSubplot:xlabel='Width_float'>"
      ]
     },
     "execution_count": 623,
     "metadata": {},
     "output_type": "execute_result"
    },
    {
     "data": {
      "image/png": "[encoded data removed]",
      "text/plain": [
       "<Figure size 720x432 with 1 Axes>"
      ]
     },
     "metadata": {
      "needs_background": "light"
     },
     "output_type": "display_data"
    }
   ],
   "source": [
    "sns.boxplot(x=df['Width_float'])"
   ]
  },
  {
   "cell_type": "markdown",
   "id": "9466680a",
   "metadata": {},
   "source": [
    "https://www.google.com/url?sa=i&url=https%3A%2F%2Fsphweb.bumc.bu.edu%2Fotlt%2FMPH-Modules%2FPH717-QuantCore%2FPH717-Module6-RandomError%2FPH717-Module6-RandomError5.html&psig=AOvVaw0mgOTwyUNOcMSE-pDijtSS&ust=1622024490189000&source=images&cd=vfe&ved=0CAIQjRxqFwoTCKjwvZ7O5PACFQAAAAAdAAAAABAI"
   ]
  },
  {
   "cell_type": "code",
   "execution_count": 624,
   "id": "62774f50",
   "metadata": {},
   "outputs": [
    {
     "name": "stdout",
     "output_type": "stream",
     "text": [
      "Cost            530.000000\n",
      "Weight1          14.500000\n",
      "Height            6.308100\n",
      "Width_float       2.206125\n",
      "Length_float     16.700000\n",
      "Weight_float     13.700000\n",
      "dtype: float64 \n",
      "\n",
      "         Q1\n",
      " Cost            120.000000\n",
      "Weight1          21.000000\n",
      "Height            5.940600\n",
      "Width_float       3.380625\n",
      "Length_float     22.950000\n",
      "Weight_float     19.000000\n",
      "Name: 0.25, dtype: float64 \n",
      "\n",
      "         Q3\n",
      " Cost            650.00000\n",
      "Weight1          35.50000\n",
      "Height           12.24870\n",
      "Width_float       5.58675\n",
      "Length_float     39.65000\n",
      "Weight_float     32.70000\n",
      "Name: 0.75, dtype: float64\n"
     ]
    }
   ],
   "source": [
    "Q1 = df.quantile(0.25)\n",
    "Q3 = df.quantile(0.75)\n",
    "IQR = Q3 - Q1\n",
    "print(IQR , '\\n\\n         Q1\\n',Q1,'\\n\\n         Q3\\n',Q3)"
   ]
  },
  {
   "cell_type": "markdown",
   "id": "155fde20",
   "metadata": {},
   "source": [
    "# Replacing NaN and outliers with Mean/Median/Mode"
   ]
  },
  {
   "cell_type": "code",
   "execution_count": 625,
   "id": "c92e5956",
   "metadata": {},
   "outputs": [],
   "source": [
    "mean_value = df.Height.mean()\n",
    "df['Height'].fillna(value=mean_value, inplace=True)"
   ]
  },
  {
   "cell_type": "markdown",
   "id": "4908c863",
   "metadata": {},
   "source": [
    "Finding Width_float outlier"
   ]
  },
  {
   "cell_type": "code",
   "execution_count": 626,
   "id": "eedb8e1a",
   "metadata": {},
   "outputs": [
    {
     "name": "stdout",
     "output_type": "stream",
     "text": [
      "142\n"
     ]
    }
   ],
   "source": [
    "for int,k in df.iterrows():\n",
    "    if(k.Width_float > 50):\n",
    "        print(int)"
   ]
  },
  {
   "cell_type": "code",
   "execution_count": 627,
   "id": "e392a8b3",
   "metadata": {},
   "outputs": [
    {
     "data": {
      "text/plain": [
       "Cost              1600.0\n",
       "Weight                56\n",
       "Weight1             60.0\n",
       "Length                64\n",
       "Height               9.6\n",
       "Width             600000\n",
       "Width_float     600000.0\n",
       "Length_float        64.0\n",
       "Weight_float        56.0\n",
       "Name: 142, dtype: object"
      ]
     },
     "execution_count": 627,
     "metadata": {},
     "output_type": "execute_result"
    }
   ],
   "source": [
    "df.iloc[142]"
   ]
  },
  {
   "cell_type": "markdown",
   "id": "8762174e",
   "metadata": {},
   "source": [
    "Replacing 60000 with the mean and keeping remaining data same will corrupt the row."
   ]
  },
  {
   "cell_type": "code",
   "execution_count": 628,
   "id": "4d9752d7",
   "metadata": {},
   "outputs": [],
   "source": [
    "df.at[142,\"Width_float\"] = None"
   ]
  },
  {
   "cell_type": "code",
   "execution_count": 629,
   "id": "cf1056fb",
   "metadata": {},
   "outputs": [],
   "source": [
    "mean_value = df.Width_float.mean()\n",
    "df['Width_float'].fillna(value=mean_value, inplace=True)"
   ]
  },
  {
   "cell_type": "code",
   "execution_count": 630,
   "id": "64b6c762",
   "metadata": {},
   "outputs": [],
   "source": [
    "df.drop(columns = ['Width','Length','Weight'],inplace = True)"
   ]
  },
  {
   "cell_type": "code",
   "execution_count": 631,
   "id": "82f90f30",
   "metadata": {},
   "outputs": [
    {
     "data": {
      "text/html": [
       "<div>\n",
       "<style scoped>\n",
       "    .dataframe tbody tr th:only-of-type {\n",
       "        vertical-align: middle;\n",
       "    }\n",
       "\n",
       "    .dataframe tbody tr th {\n",
       "        vertical-align: top;\n",
       "    }\n",
       "\n",
       "    .dataframe thead th {\n",
       "        text-align: right;\n",
       "    }\n",
       "</style>\n",
       "<table border=\"1\" class=\"dataframe\">\n",
       "  <thead>\n",
       "    <tr style=\"text-align: right;\">\n",
       "      <th></th>\n",
       "      <th>Cost</th>\n",
       "      <th>Weight1</th>\n",
       "      <th>Height</th>\n",
       "      <th>Width_float</th>\n",
       "      <th>Length_float</th>\n",
       "      <th>Weight_float</th>\n",
       "    </tr>\n",
       "  </thead>\n",
       "  <tbody>\n",
       "    <tr>\n",
       "      <th>count</th>\n",
       "      <td>159.000000</td>\n",
       "      <td>159.000000</td>\n",
       "      <td>159.000000</td>\n",
       "      <td>159.000000</td>\n",
       "      <td>159.000000</td>\n",
       "      <td>159.000000</td>\n",
       "    </tr>\n",
       "    <tr>\n",
       "      <th>mean</th>\n",
       "      <td>398.326415</td>\n",
       "      <td>28.415723</td>\n",
       "      <td>8.933124</td>\n",
       "      <td>4.394451</td>\n",
       "      <td>31.042767</td>\n",
       "      <td>25.929560</td>\n",
       "    </tr>\n",
       "    <tr>\n",
       "      <th>std</th>\n",
       "      <td>357.978317</td>\n",
       "      <td>10.716328</td>\n",
       "      <td>4.259525</td>\n",
       "      <td>1.698826</td>\n",
       "      <td>11.870629</td>\n",
       "      <td>10.411602</td>\n",
       "    </tr>\n",
       "    <tr>\n",
       "      <th>min</th>\n",
       "      <td>0.000000</td>\n",
       "      <td>8.400000</td>\n",
       "      <td>1.728400</td>\n",
       "      <td>0.000000</td>\n",
       "      <td>0.000000</td>\n",
       "      <td>0.000000</td>\n",
       "    </tr>\n",
       "    <tr>\n",
       "      <th>25%</th>\n",
       "      <td>120.000000</td>\n",
       "      <td>21.000000</td>\n",
       "      <td>5.944800</td>\n",
       "      <td>3.385650</td>\n",
       "      <td>22.950000</td>\n",
       "      <td>19.000000</td>\n",
       "    </tr>\n",
       "    <tr>\n",
       "      <th>50%</th>\n",
       "      <td>273.000000</td>\n",
       "      <td>27.300000</td>\n",
       "      <td>7.786000</td>\n",
       "      <td>4.248500</td>\n",
       "      <td>29.400000</td>\n",
       "      <td>25.000000</td>\n",
       "    </tr>\n",
       "    <tr>\n",
       "      <th>75%</th>\n",
       "      <td>650.000000</td>\n",
       "      <td>35.500000</td>\n",
       "      <td>12.143400</td>\n",
       "      <td>5.574750</td>\n",
       "      <td>39.650000</td>\n",
       "      <td>32.700000</td>\n",
       "    </tr>\n",
       "    <tr>\n",
       "      <th>max</th>\n",
       "      <td>1650.000000</td>\n",
       "      <td>63.400000</td>\n",
       "      <td>18.957000</td>\n",
       "      <td>8.142000</td>\n",
       "      <td>68.000000</td>\n",
       "      <td>59.000000</td>\n",
       "    </tr>\n",
       "  </tbody>\n",
       "</table>\n",
       "</div>"
      ],
      "text/plain": [
       "              Cost     Weight1      Height  Width_float  Length_float  \\\n",
       "count   159.000000  159.000000  159.000000   159.000000    159.000000   \n",
       "mean    398.326415   28.415723    8.933124     4.394451     31.042767   \n",
       "std     357.978317   10.716328    4.259525     1.698826     11.870629   \n",
       "min       0.000000    8.400000    1.728400     0.000000      0.000000   \n",
       "25%     120.000000   21.000000    5.944800     3.385650     22.950000   \n",
       "50%     273.000000   27.300000    7.786000     4.248500     29.400000   \n",
       "75%     650.000000   35.500000   12.143400     5.574750     39.650000   \n",
       "max    1650.000000   63.400000   18.957000     8.142000     68.000000   \n",
       "\n",
       "       Weight_float  \n",
       "count    159.000000  \n",
       "mean      25.929560  \n",
       "std       10.411602  \n",
       "min        0.000000  \n",
       "25%       19.000000  \n",
       "50%       25.000000  \n",
       "75%       32.700000  \n",
       "max       59.000000  "
      ]
     },
     "execution_count": 631,
     "metadata": {},
     "output_type": "execute_result"
    }
   ],
   "source": [
    "df.describe()"
   ]
  },
  {
   "cell_type": "markdown",
   "id": "797f272e",
   "metadata": {},
   "source": [
    "Earlier, we have converted string values to 0. I am dropping these rows"
   ]
  },
  {
   "cell_type": "code",
   "execution_count": 632,
   "id": "82a89eca",
   "metadata": {},
   "outputs": [],
   "source": [
    "df_new = df[(df[['Cost','Weight1','Height','Width_float','Length_float','Weight_float']] != 0).all(axis=1)]\n",
    "df_new.reset_index(inplace=True,drop='index')"
   ]
  },
  {
   "cell_type": "code",
   "execution_count": 633,
   "id": "a93955d2",
   "metadata": {},
   "outputs": [
    {
     "data": {
      "text/html": [
       "<div>\n",
       "<style scoped>\n",
       "    .dataframe tbody tr th:only-of-type {\n",
       "        vertical-align: middle;\n",
       "    }\n",
       "\n",
       "    .dataframe tbody tr th {\n",
       "        vertical-align: top;\n",
       "    }\n",
       "\n",
       "    .dataframe thead th {\n",
       "        text-align: right;\n",
       "    }\n",
       "</style>\n",
       "<table border=\"1\" class=\"dataframe\">\n",
       "  <thead>\n",
       "    <tr style=\"text-align: right;\">\n",
       "      <th></th>\n",
       "      <th>Cost</th>\n",
       "      <th>Weight1</th>\n",
       "      <th>Height</th>\n",
       "      <th>Width_float</th>\n",
       "      <th>Length_float</th>\n",
       "      <th>Weight_float</th>\n",
       "    </tr>\n",
       "  </thead>\n",
       "  <tbody>\n",
       "    <tr>\n",
       "      <th>count</th>\n",
       "      <td>154.000000</td>\n",
       "      <td>154.000000</td>\n",
       "      <td>154.000000</td>\n",
       "      <td>154.000000</td>\n",
       "      <td>154.000000</td>\n",
       "      <td>154.000000</td>\n",
       "    </tr>\n",
       "    <tr>\n",
       "      <th>mean</th>\n",
       "      <td>402.291558</td>\n",
       "      <td>28.488961</td>\n",
       "      <td>8.902609</td>\n",
       "      <td>4.431994</td>\n",
       "      <td>31.268831</td>\n",
       "      <td>26.317532</td>\n",
       "    </tr>\n",
       "    <tr>\n",
       "      <th>std</th>\n",
       "      <td>361.555958</td>\n",
       "      <td>10.860220</td>\n",
       "      <td>4.282493</td>\n",
       "      <td>1.685095</td>\n",
       "      <td>11.761733</td>\n",
       "      <td>10.132276</td>\n",
       "    </tr>\n",
       "    <tr>\n",
       "      <th>min</th>\n",
       "      <td>5.900000</td>\n",
       "      <td>8.400000</td>\n",
       "      <td>1.728400</td>\n",
       "      <td>1.047600</td>\n",
       "      <td>8.800000</td>\n",
       "      <td>7.500000</td>\n",
       "    </tr>\n",
       "    <tr>\n",
       "      <th>25%</th>\n",
       "      <td>120.000000</td>\n",
       "      <td>21.000000</td>\n",
       "      <td>5.922225</td>\n",
       "      <td>3.398650</td>\n",
       "      <td>23.125000</td>\n",
       "      <td>19.025000</td>\n",
       "    </tr>\n",
       "    <tr>\n",
       "      <th>50%</th>\n",
       "      <td>281.500000</td>\n",
       "      <td>27.400000</td>\n",
       "      <td>7.733000</td>\n",
       "      <td>4.314050</td>\n",
       "      <td>29.700000</td>\n",
       "      <td>25.300000</td>\n",
       "    </tr>\n",
       "    <tr>\n",
       "      <th>75%</th>\n",
       "      <td>672.500000</td>\n",
       "      <td>36.000000</td>\n",
       "      <td>11.931750</td>\n",
       "      <td>5.586750</td>\n",
       "      <td>39.775000</td>\n",
       "      <td>32.775000</td>\n",
       "    </tr>\n",
       "    <tr>\n",
       "      <th>max</th>\n",
       "      <td>1650.000000</td>\n",
       "      <td>63.400000</td>\n",
       "      <td>18.957000</td>\n",
       "      <td>8.142000</td>\n",
       "      <td>68.000000</td>\n",
       "      <td>59.000000</td>\n",
       "    </tr>\n",
       "  </tbody>\n",
       "</table>\n",
       "</div>"
      ],
      "text/plain": [
       "              Cost     Weight1      Height  Width_float  Length_float  \\\n",
       "count   154.000000  154.000000  154.000000   154.000000    154.000000   \n",
       "mean    402.291558   28.488961    8.902609     4.431994     31.268831   \n",
       "std     361.555958   10.860220    4.282493     1.685095     11.761733   \n",
       "min       5.900000    8.400000    1.728400     1.047600      8.800000   \n",
       "25%     120.000000   21.000000    5.922225     3.398650     23.125000   \n",
       "50%     281.500000   27.400000    7.733000     4.314050     29.700000   \n",
       "75%     672.500000   36.000000   11.931750     5.586750     39.775000   \n",
       "max    1650.000000   63.400000   18.957000     8.142000     68.000000   \n",
       "\n",
       "       Weight_float  \n",
       "count    154.000000  \n",
       "mean      26.317532  \n",
       "std       10.132276  \n",
       "min        7.500000  \n",
       "25%       19.025000  \n",
       "50%       25.300000  \n",
       "75%       32.775000  \n",
       "max       59.000000  "
      ]
     },
     "execution_count": 633,
     "metadata": {},
     "output_type": "execute_result"
    }
   ],
   "source": [
    "df_new.describe()"
   ]
  },
  {
   "cell_type": "code",
   "execution_count": 634,
   "id": "b85333bb",
   "metadata": {},
   "outputs": [
    {
     "data": {
      "text/html": [
       "<div>\n",
       "<style scoped>\n",
       "    .dataframe tbody tr th:only-of-type {\n",
       "        vertical-align: middle;\n",
       "    }\n",
       "\n",
       "    .dataframe tbody tr th {\n",
       "        vertical-align: top;\n",
       "    }\n",
       "\n",
       "    .dataframe thead th {\n",
       "        text-align: right;\n",
       "    }\n",
       "</style>\n",
       "<table border=\"1\" class=\"dataframe\">\n",
       "  <thead>\n",
       "    <tr style=\"text-align: right;\">\n",
       "      <th></th>\n",
       "      <th>Cost</th>\n",
       "      <th>Weight1</th>\n",
       "      <th>Height</th>\n",
       "      <th>Width_float</th>\n",
       "      <th>Length_float</th>\n",
       "      <th>Weight_float</th>\n",
       "    </tr>\n",
       "  </thead>\n",
       "  <tbody>\n",
       "    <tr>\n",
       "      <th>count</th>\n",
       "      <td>159.000000</td>\n",
       "      <td>159.000000</td>\n",
       "      <td>159.000000</td>\n",
       "      <td>159.000000</td>\n",
       "      <td>159.000000</td>\n",
       "      <td>159.000000</td>\n",
       "    </tr>\n",
       "    <tr>\n",
       "      <th>mean</th>\n",
       "      <td>398.326415</td>\n",
       "      <td>28.415723</td>\n",
       "      <td>8.933124</td>\n",
       "      <td>4.394451</td>\n",
       "      <td>31.042767</td>\n",
       "      <td>25.929560</td>\n",
       "    </tr>\n",
       "    <tr>\n",
       "      <th>std</th>\n",
       "      <td>357.978317</td>\n",
       "      <td>10.716328</td>\n",
       "      <td>4.259525</td>\n",
       "      <td>1.698826</td>\n",
       "      <td>11.870629</td>\n",
       "      <td>10.411602</td>\n",
       "    </tr>\n",
       "    <tr>\n",
       "      <th>min</th>\n",
       "      <td>0.000000</td>\n",
       "      <td>8.400000</td>\n",
       "      <td>1.728400</td>\n",
       "      <td>0.000000</td>\n",
       "      <td>0.000000</td>\n",
       "      <td>0.000000</td>\n",
       "    </tr>\n",
       "    <tr>\n",
       "      <th>25%</th>\n",
       "      <td>120.000000</td>\n",
       "      <td>21.000000</td>\n",
       "      <td>5.944800</td>\n",
       "      <td>3.385650</td>\n",
       "      <td>22.950000</td>\n",
       "      <td>19.000000</td>\n",
       "    </tr>\n",
       "    <tr>\n",
       "      <th>50%</th>\n",
       "      <td>273.000000</td>\n",
       "      <td>27.300000</td>\n",
       "      <td>7.786000</td>\n",
       "      <td>4.248500</td>\n",
       "      <td>29.400000</td>\n",
       "      <td>25.000000</td>\n",
       "    </tr>\n",
       "    <tr>\n",
       "      <th>75%</th>\n",
       "      <td>650.000000</td>\n",
       "      <td>35.500000</td>\n",
       "      <td>12.143400</td>\n",
       "      <td>5.574750</td>\n",
       "      <td>39.650000</td>\n",
       "      <td>32.700000</td>\n",
       "    </tr>\n",
       "    <tr>\n",
       "      <th>max</th>\n",
       "      <td>1650.000000</td>\n",
       "      <td>63.400000</td>\n",
       "      <td>18.957000</td>\n",
       "      <td>8.142000</td>\n",
       "      <td>68.000000</td>\n",
       "      <td>59.000000</td>\n",
       "    </tr>\n",
       "  </tbody>\n",
       "</table>\n",
       "</div>"
      ],
      "text/plain": [
       "              Cost     Weight1      Height  Width_float  Length_float  \\\n",
       "count   159.000000  159.000000  159.000000   159.000000    159.000000   \n",
       "mean    398.326415   28.415723    8.933124     4.394451     31.042767   \n",
       "std     357.978317   10.716328    4.259525     1.698826     11.870629   \n",
       "min       0.000000    8.400000    1.728400     0.000000      0.000000   \n",
       "25%     120.000000   21.000000    5.944800     3.385650     22.950000   \n",
       "50%     273.000000   27.300000    7.786000     4.248500     29.400000   \n",
       "75%     650.000000   35.500000   12.143400     5.574750     39.650000   \n",
       "max    1650.000000   63.400000   18.957000     8.142000     68.000000   \n",
       "\n",
       "       Weight_float  \n",
       "count    159.000000  \n",
       "mean      25.929560  \n",
       "std       10.411602  \n",
       "min        0.000000  \n",
       "25%       19.000000  \n",
       "50%       25.000000  \n",
       "75%       32.700000  \n",
       "max       59.000000  "
      ]
     },
     "execution_count": 634,
     "metadata": {},
     "output_type": "execute_result"
    }
   ],
   "source": [
    "df.describe()"
   ]
  },
  {
   "cell_type": "code",
   "execution_count": 661,
   "id": "b3c3b183",
   "metadata": {},
   "outputs": [],
   "source": [
    "df = df_new.copy()"
   ]
  },
  {
   "cell_type": "markdown",
   "id": "1e2ee95f",
   "metadata": {},
   "source": [
    "# Plotting Graph and Correlation"
   ]
  },
  {
   "cell_type": "code",
   "execution_count": 662,
   "id": "d7274c7f",
   "metadata": {},
   "outputs": [
    {
     "data": {
      "text/plain": [
       "<AxesSubplot:>"
      ]
     },
     "execution_count": 662,
     "metadata": {},
     "output_type": "execute_result"
    },
    {
     "data": {
      "image/png": "[encoded data removed]",
      "text/plain": [
       "<Figure size 1440x720 with 2 Axes>"
      ]
     },
     "metadata": {
      "needs_background": "light"
     },
     "output_type": "display_data"
    }
   ],
   "source": [
    "\n",
    "f, ax = plt.subplots(figsize=(20, 10))\n",
    "# cmap = sns.diverging_palette(20, 200, as_cmap=True)\n",
    "sns.heatmap(df.corr(), annot=True, center=-1,\n",
    "            square=True, linewidths=.5, cbar_kws={\"shrink\": .5})"
   ]
  },
  {
   "cell_type": "markdown",
   "id": "8fee9e17",
   "metadata": {},
   "source": [
    "Cost greatly depends on Weight1, Weight_float Length_float (originally Length)"
   ]
  },
  {
   "cell_type": "markdown",
   "id": "6b56c3c2",
   "metadata": {},
   "source": [
    "# Regression line - OLS"
   ]
  },
  {
   "cell_type": "code",
   "execution_count": 663,
   "id": "89a9a18e",
   "metadata": {},
   "outputs": [
    {
     "data": {
      "text/plain": [
       "LinearRegression(normalize=True)"
      ]
     },
     "execution_count": 663,
     "metadata": {},
     "output_type": "execute_result"
    }
   ],
   "source": [
    "#Getting Input Variables data\n",
    "X = df[['Weight1','Height', 'Width_float','Length_float','Weight_float']]\n",
    "#Getting Output Data\n",
    "y = df['Cost']\n",
    "x_train,x_test,y_train,y_test = train_test_split(X,y,test_size=0.2)\n",
    "model_ols =  linear_model.LinearRegression(normalize=True)\n",
    "model_ols.fit(x_train,y_train)"
   ]
  },
  {
   "cell_type": "markdown",
   "id": "e701d584",
   "metadata": {},
   "source": [
    "LinearRegression(copy_X=True, fit_intercept=True, n_jobs=None, normalize=True)\n"
   ]
  },
  {
   "cell_type": "code",
   "execution_count": 664,
   "id": "1688d689",
   "metadata": {},
   "outputs": [
    {
     "data": {
      "text/plain": [
       "Text(0.5, 1.0, 'Price From Dataset Vs Price Predicted By Model')"
      ]
     },
     "execution_count": 664,
     "metadata": {},
     "output_type": "execute_result"
    },
    {
     "data": {
      "image/png": "[encoded data removed]",
      "text/plain": [
       "<Figure size 720x432 with 1 Axes>"
      ]
     },
     "metadata": {
      "needs_background": "light"
     },
     "output_type": "display_data"
    }
   ],
   "source": [
    "plt.scatter(y, model_ols.predict(X))\n",
    "plt.xlabel('Price From Dataset')\n",
    "plt.ylabel('Price Predicted By Model')\n",
    "plt.rcParams[\"figure.figsize\"] = (10,6) # Custom figure size in inches\n",
    "plt.title(\"Price From Dataset Vs Price Predicted By Model\")\n"
   ]
  },
  {
   "cell_type": "code",
   "execution_count": 665,
   "id": "85ed6469",
   "metadata": {},
   "outputs": [
    {
     "data": {
      "text/html": [
       "<div>\n",
       "<style scoped>\n",
       "    .dataframe tbody tr th:only-of-type {\n",
       "        vertical-align: middle;\n",
       "    }\n",
       "\n",
       "    .dataframe tbody tr th {\n",
       "        vertical-align: top;\n",
       "    }\n",
       "\n",
       "    .dataframe thead th {\n",
       "        text-align: right;\n",
       "    }\n",
       "</style>\n",
       "<table border=\"1\" class=\"dataframe\">\n",
       "  <thead>\n",
       "    <tr style=\"text-align: right;\">\n",
       "      <th></th>\n",
       "      <th>Cost</th>\n",
       "      <th>Weight1</th>\n",
       "      <th>Height</th>\n",
       "      <th>Width_float</th>\n",
       "      <th>Length_float</th>\n",
       "      <th>Weight_float</th>\n",
       "    </tr>\n",
       "  </thead>\n",
       "  <tbody>\n",
       "    <tr>\n",
       "      <th>0</th>\n",
       "      <td>242.0</td>\n",
       "      <td>25.4</td>\n",
       "      <td>11.5200</td>\n",
       "      <td>4.0200</td>\n",
       "      <td>30.0</td>\n",
       "      <td>23.2</td>\n",
       "    </tr>\n",
       "    <tr>\n",
       "      <th>1</th>\n",
       "      <td>290.0</td>\n",
       "      <td>26.3</td>\n",
       "      <td>12.4800</td>\n",
       "      <td>4.3056</td>\n",
       "      <td>31.2</td>\n",
       "      <td>24.0</td>\n",
       "    </tr>\n",
       "    <tr>\n",
       "      <th>2</th>\n",
       "      <td>340.0</td>\n",
       "      <td>26.5</td>\n",
       "      <td>12.3778</td>\n",
       "      <td>4.6961</td>\n",
       "      <td>31.1</td>\n",
       "      <td>23.9</td>\n",
       "    </tr>\n",
       "    <tr>\n",
       "      <th>3</th>\n",
       "      <td>363.0</td>\n",
       "      <td>29.0</td>\n",
       "      <td>12.7300</td>\n",
       "      <td>4.4555</td>\n",
       "      <td>33.5</td>\n",
       "      <td>26.3</td>\n",
       "    </tr>\n",
       "    <tr>\n",
       "      <th>4</th>\n",
       "      <td>430.0</td>\n",
       "      <td>29.0</td>\n",
       "      <td>12.4440</td>\n",
       "      <td>5.1340</td>\n",
       "      <td>34.0</td>\n",
       "      <td>26.5</td>\n",
       "    </tr>\n",
       "  </tbody>\n",
       "</table>\n",
       "</div>"
      ],
      "text/plain": [
       "    Cost  Weight1   Height  Width_float  Length_float  Weight_float\n",
       "0  242.0     25.4  11.5200       4.0200          30.0          23.2\n",
       "1  290.0     26.3  12.4800       4.3056          31.2          24.0\n",
       "2  340.0     26.5  12.3778       4.6961          31.1          23.9\n",
       "3  363.0     29.0  12.7300       4.4555          33.5          26.3\n",
       "4  430.0     29.0  12.4440       5.1340          34.0          26.5"
      ]
     },
     "execution_count": 665,
     "metadata": {},
     "output_type": "execute_result"
    }
   ],
   "source": [
    "df.head()"
   ]
  },
  {
   "cell_type": "code",
   "execution_count": 666,
   "id": "58f14232",
   "metadata": {},
   "outputs": [],
   "source": [
    "y_pred = model_ols.predict(x_test)"
   ]
  },
  {
   "cell_type": "code",
   "execution_count": 667,
   "id": "fbad9a39",
   "metadata": {},
   "outputs": [
    {
     "data": {
      "text/plain": [
       "24036.701997695414"
      ]
     },
     "execution_count": 667,
     "metadata": {},
     "output_type": "execute_result"
    }
   ],
   "source": [
    "metrics.mean_squared_error(y_test,y_pred)"
   ]
  },
  {
   "cell_type": "code",
   "execution_count": 668,
   "id": "0d4099a4",
   "metadata": {},
   "outputs": [
    {
     "data": {
      "text/plain": [
       "0.8653958372024664"
      ]
     },
     "execution_count": 668,
     "metadata": {},
     "output_type": "execute_result"
    }
   ],
   "source": [
    "metrics.r2_score(y_test,y_pred)"
   ]
  },
  {
   "cell_type": "code",
   "execution_count": 669,
   "id": "00f4894a",
   "metadata": {},
   "outputs": [
    {
     "data": {
      "text/plain": [
       "155.03774378420056"
      ]
     },
     "execution_count": 669,
     "metadata": {},
     "output_type": "execute_result"
    }
   ],
   "source": [
    "np.sqrt(metrics.mean_squared_error(y_test,y_pred))"
   ]
  },
  {
   "cell_type": "markdown",
   "id": "3d860cf9",
   "metadata": {},
   "source": [
    "Check if Model is overfitting - divide the data into testing and training dataset.https://www.askpython.com/python/examples/split-data-training-and-testing-set"
   ]
  },
  {
   "cell_type": "markdown",
   "id": "8bb05d9a",
   "metadata": {},
   "source": [
    "# Cross Validation Method"
   ]
  },
  {
   "cell_type": "code",
   "execution_count": 155,
   "id": "67dfdb19",
   "metadata": {},
   "outputs": [
    {
     "data": {
      "text/plain": [
       "array([0.86487752, 0.8162907 , 0.80001567, 0.81715519, 0.85521999])"
      ]
     },
     "execution_count": 155,
     "metadata": {},
     "output_type": "execute_result"
    }
   ],
   "source": [
    "lm = LinearRegression()\n",
    "scores = cross_val_score(lm, x_train, y_train, scoring='r2', cv=5)\n",
    "scores      "
   ]
  },
  {
   "cell_type": "markdown",
   "id": "fedc0542",
   "metadata": {},
   "source": [
    "Reference Link - https://www.kaggle.com/jnikhilsai/cross-validation-with-linear-regression"
   ]
  },
  {
   "cell_type": "markdown",
   "id": "8067530f",
   "metadata": {},
   "source": [
    "# Check Overfitting"
   ]
  },
  {
   "cell_type": "code",
   "execution_count": 673,
   "id": "5a77ea37",
   "metadata": {},
   "outputs": [
    {
     "data": {
      "text/plain": [
       "LinearRegression(normalize=True)"
      ]
     },
     "execution_count": 673,
     "metadata": {},
     "output_type": "execute_result"
    }
   ],
   "source": [
    "\n",
    "X = df[['Weight1','Height', 'Width_float','Length_float','Weight_float']]\n",
    "y = df['Cost']\n",
    "\n",
    "x_train,x_test,y_train,y_test = train_test_split(X,y,test_size=0.2) #keeping 20 % data as testing data for later use.\n",
    "\n",
    "model_ols_ofit =  linear_model.LinearRegression(normalize=True)\n",
    "model_ols_ofit.fit(x_train,y_train)"
   ]
  },
  {
   "cell_type": "code",
   "execution_count": 674,
   "id": "1d5ee14f",
   "metadata": {},
   "outputs": [
    {
     "data": {
      "text/plain": [
       "0.8531915329119422"
      ]
     },
     "execution_count": 674,
     "metadata": {},
     "output_type": "execute_result"
    }
   ],
   "source": [
    "r2_score(y_test, model_ols_ofit.predict(x_test))\n",
    "\n"
   ]
  },
  {
   "cell_type": "markdown",
   "id": "0f52a196",
   "metadata": {},
   "source": [
    "Why does this value change post every new set up ? Possible Reason - Shuffle of Test- Train Data. Solution - Do cross validation"
   ]
  },
  {
   "cell_type": "code",
   "execution_count": 675,
   "id": "23a92ed7",
   "metadata": {},
   "outputs": [
    {
     "name": "stdout",
     "output_type": "stream",
     "text": [
      "32.6907619495848\n"
     ]
    }
   ],
   "source": [
    "Rsq = model_ols_ofit.score(x_train,y_train)\n",
    "\n",
    "N = 6\n",
    "\n",
    "K =1\n",
    "\n",
    "fstat = (Rsq/(1-Rsq))*((N-K-1)/K) \n",
    "# fstat = scipy.stats.f_oneway(tillamook, newport, petersburg, magadan, tvarminne)\n",
    "\n",
    "print(fstat)\n"
   ]
  },
  {
   "cell_type": "markdown",
   "id": "b3671be5",
   "metadata": {},
   "source": [
    "The p-value is < .00001. The result is significant at p < .05.http://courses.atlas.illinois.edu/spring2016/STAT/STAT200/pf.html\n",
    "\n"
   ]
  },
  {
   "cell_type": "markdown",
   "id": "4640328c",
   "metadata": {},
   "source": [
    "# Usinf F-Statistics for Feature Selection"
   ]
  },
  {
   "cell_type": "code",
   "execution_count": 676,
   "id": "ec61013e",
   "metadata": {},
   "outputs": [
    {
     "data": {
      "text/html": [
       "<div>\n",
       "<style scoped>\n",
       "    .dataframe tbody tr th:only-of-type {\n",
       "        vertical-align: middle;\n",
       "    }\n",
       "\n",
       "    .dataframe tbody tr th {\n",
       "        vertical-align: top;\n",
       "    }\n",
       "\n",
       "    .dataframe thead th {\n",
       "        text-align: right;\n",
       "    }\n",
       "</style>\n",
       "<table border=\"1\" class=\"dataframe\">\n",
       "  <thead>\n",
       "    <tr style=\"text-align: right;\">\n",
       "      <th></th>\n",
       "      <th>Cost</th>\n",
       "      <th>Weight1</th>\n",
       "      <th>Height</th>\n",
       "      <th>Width_float</th>\n",
       "      <th>Length_float</th>\n",
       "      <th>Weight_float</th>\n",
       "    </tr>\n",
       "  </thead>\n",
       "  <tbody>\n",
       "    <tr>\n",
       "      <th>Cost</th>\n",
       "      <td>1.000000</td>\n",
       "      <td>0.918596</td>\n",
       "      <td>0.726339</td>\n",
       "      <td>0.863920</td>\n",
       "      <td>0.923338</td>\n",
       "      <td>0.915751</td>\n",
       "    </tr>\n",
       "    <tr>\n",
       "      <th>Weight1</th>\n",
       "      <td>0.918596</td>\n",
       "      <td>1.000000</td>\n",
       "      <td>0.643278</td>\n",
       "      <td>0.846759</td>\n",
       "      <td>0.994343</td>\n",
       "      <td>0.999539</td>\n",
       "    </tr>\n",
       "    <tr>\n",
       "      <th>Height</th>\n",
       "      <td>0.726339</td>\n",
       "      <td>0.643278</td>\n",
       "      <td>1.000000</td>\n",
       "      <td>0.787665</td>\n",
       "      <td>0.703431</td>\n",
       "      <td>0.628486</td>\n",
       "    </tr>\n",
       "    <tr>\n",
       "      <th>Width_float</th>\n",
       "      <td>0.863920</td>\n",
       "      <td>0.846759</td>\n",
       "      <td>0.787665</td>\n",
       "      <td>1.000000</td>\n",
       "      <td>0.852153</td>\n",
       "      <td>0.840529</td>\n",
       "    </tr>\n",
       "    <tr>\n",
       "      <th>Length_float</th>\n",
       "      <td>0.923338</td>\n",
       "      <td>0.994343</td>\n",
       "      <td>0.703431</td>\n",
       "      <td>0.852153</td>\n",
       "      <td>1.000000</td>\n",
       "      <td>0.992323</td>\n",
       "    </tr>\n",
       "    <tr>\n",
       "      <th>Weight_float</th>\n",
       "      <td>0.915751</td>\n",
       "      <td>0.999539</td>\n",
       "      <td>0.628486</td>\n",
       "      <td>0.840529</td>\n",
       "      <td>0.992323</td>\n",
       "      <td>1.000000</td>\n",
       "    </tr>\n",
       "  </tbody>\n",
       "</table>\n",
       "</div>"
      ],
      "text/plain": [
       "                  Cost   Weight1    Height  Width_float  Length_float  \\\n",
       "Cost          1.000000  0.918596  0.726339     0.863920      0.923338   \n",
       "Weight1       0.918596  1.000000  0.643278     0.846759      0.994343   \n",
       "Height        0.726339  0.643278  1.000000     0.787665      0.703431   \n",
       "Width_float   0.863920  0.846759  0.787665     1.000000      0.852153   \n",
       "Length_float  0.923338  0.994343  0.703431     0.852153      1.000000   \n",
       "Weight_float  0.915751  0.999539  0.628486     0.840529      0.992323   \n",
       "\n",
       "              Weight_float  \n",
       "Cost              0.915751  \n",
       "Weight1           0.999539  \n",
       "Height            0.628486  \n",
       "Width_float       0.840529  \n",
       "Length_float      0.992323  \n",
       "Weight_float      1.000000  "
      ]
     },
     "execution_count": 676,
     "metadata": {},
     "output_type": "execute_result"
    }
   ],
   "source": [
    "df.corr()"
   ]
  },
  {
   "cell_type": "code",
   "execution_count": 201,
   "id": "a4ef3e31",
   "metadata": {},
   "outputs": [
    {
     "data": {
      "text/html": [
       "<div>\n",
       "<style scoped>\n",
       "    .dataframe tbody tr th:only-of-type {\n",
       "        vertical-align: middle;\n",
       "    }\n",
       "\n",
       "    .dataframe tbody tr th {\n",
       "        vertical-align: top;\n",
       "    }\n",
       "\n",
       "    .dataframe thead th {\n",
       "        text-align: right;\n",
       "    }\n",
       "</style>\n",
       "<table border=\"1\" class=\"dataframe\">\n",
       "  <thead>\n",
       "    <tr style=\"text-align: right;\">\n",
       "      <th></th>\n",
       "      <th>Specs</th>\n",
       "      <th>Score</th>\n",
       "    </tr>\n",
       "  </thead>\n",
       "  <tbody>\n",
       "    <tr>\n",
       "      <th>0</th>\n",
       "      <td>Weight1</td>\n",
       "      <td>616.927632</td>\n",
       "    </tr>\n",
       "    <tr>\n",
       "      <th>1</th>\n",
       "      <td>Height</td>\n",
       "      <td>288.575996</td>\n",
       "    </tr>\n",
       "    <tr>\n",
       "      <th>2</th>\n",
       "      <td>Width_float</td>\n",
       "      <td>97.014245</td>\n",
       "    </tr>\n",
       "    <tr>\n",
       "      <th>3</th>\n",
       "      <td>Length_float</td>\n",
       "      <td>687.930433</td>\n",
       "    </tr>\n",
       "    <tr>\n",
       "      <th>4</th>\n",
       "      <td>Weight_float</td>\n",
       "      <td>607.633504</td>\n",
       "    </tr>\n",
       "  </tbody>\n",
       "</table>\n",
       "</div>"
      ],
      "text/plain": [
       "          Specs       Score\n",
       "0       Weight1  616.927632\n",
       "1        Height  288.575996\n",
       "2   Width_float   97.014245\n",
       "3  Length_float  687.930433\n",
       "4  Weight_float  607.633504"
      ]
     },
     "execution_count": 201,
     "metadata": {},
     "output_type": "execute_result"
    }
   ],
   "source": [
    "from sklearn.feature_selection import SelectKBest\n",
    "from sklearn.feature_selection import chi2\n",
    "\n",
    "X = df[['Weight1','Height', 'Width_float','Length_float','Weight_float']]\n",
    "y = np.round(df['Cost'])\n",
    "\n",
    "#Apply SelectKBest class to extract top 5 best features\n",
    "bestfeatures = SelectKBest(score_func=chi2, k=5)\n",
    "fit = bestfeatures.fit(X,y)\n",
    "dfscores = pd.DataFrame(fit.scores_)\n",
    "dfcolumns = pd.DataFrame(X.columns)\n",
    "\n",
    "# Concat two dataframes for better visualization\n",
    "featureScores = pd.concat([dfcolumns,dfscores],axis=1)\n",
    "featureScores.columns = ['Specs','Score'] #naming the dataframe columns\n",
    "featureScores"
   ]
  },
  {
   "cell_type": "markdown",
   "id": "be528c5a",
   "metadata": {},
   "source": [
    "# Trying out different Models"
   ]
  },
  {
   "cell_type": "markdown",
   "id": "fe3063ed",
   "metadata": {},
   "source": [
    "# Gradient Descent"
   ]
  },
  {
   "cell_type": "code",
   "execution_count": 677,
   "id": "2ea70a32",
   "metadata": {},
   "outputs": [],
   "source": [
    "def hypothesis(theta, X, n):\n",
    "    h = np.ones((X.shape[0],1))\n",
    "    theta = theta.reshape(1,n+1)\n",
    "    for i in range(0,X.shape[0]):\n",
    "        h[i] = float(np.matmul(theta, X[i]))\n",
    "    h = h.reshape(X.shape[0])\n",
    "    return h\n"
   ]
  },
  {
   "cell_type": "code",
   "execution_count": 678,
   "id": "ed6690bd",
   "metadata": {},
   "outputs": [],
   "source": [
    "def BGD(theta, alpha, num_iters, h, X, y, n):\n",
    "    cost = np.ones(num_iters)\n",
    "    for i in range(0,num_iters):\n",
    "        theta[0] = theta[0] - (alpha/X.shape[0]) * sum(h - y)\n",
    "        for j in range(1,n+1):\n",
    "            theta[j] = theta[j] - (alpha/X.shape[0]) * sum((h-y) * X.transpose()[j])\n",
    "        h = hypothesis(theta, X, n)\n",
    "        cost[i] = (1/X.shape[0]) * 0.5 * sum(np.square(h - y))\n",
    "    theta = theta.reshape(1,n+1)\n",
    "    return theta, cost\n"
   ]
  },
  {
   "cell_type": "code",
   "execution_count": 679,
   "id": "0812c46e",
   "metadata": {},
   "outputs": [],
   "source": [
    "def linear_regression(X, y, alpha, num_iters):\n",
    "    n = X.shape[1]\n",
    "    one_column = np.ones((X.shape[0],1))\n",
    "    X = np.concatenate((one_column, X), axis = 1)\n",
    "    # initializing the parameter vector...\n",
    "    theta = np.zeros(n+1)\n",
    "    # hypothesis calculation....\n",
    "    h = hypothesis(theta, X, n)\n",
    "    # returning the optimized parameters by Gradient Descent...\n",
    "    theta, cost = BGD(theta,alpha,num_iters,h,X,y,n)\n",
    "    return theta, cost\n"
   ]
  },
  {
   "cell_type": "code",
   "execution_count": 680,
   "id": "2c85bd93",
   "metadata": {},
   "outputs": [],
   "source": [
    "X = df_new[['Weight1','Height', 'Width_float','Length_float','Weight_float']]\n",
    "y = df_new['Cost']\n",
    "x_train,x_test,y_train,y_test = train_test_split(X,y,test_size=0.2)\n",
    "\n"
   ]
  },
  {
   "cell_type": "markdown",
   "id": "f9aa6295",
   "metadata": {},
   "source": [
    "Alpha is learning rate , num_iters - 1000"
   ]
  },
  {
   "cell_type": "code",
   "execution_count": 681,
   "id": "13cf6743",
   "metadata": {},
   "outputs": [],
   "source": [
    "x_gd = x_train.to_numpy()\n",
    "y_gd = y_train.to_numpy()"
   ]
  },
  {
   "cell_type": "code",
   "execution_count": 682,
   "id": "3d3127f4",
   "metadata": {},
   "outputs": [],
   "source": [
    "theta, cost = linear_regression(x_gd, y_gd, 0.0005, 7000)"
   ]
  },
  {
   "cell_type": "code",
   "execution_count": 683,
   "id": "d340a0cd",
   "metadata": {},
   "outputs": [
    {
     "data": {
      "text/plain": [
       "(array([[-134.41863403,    8.39494146,   22.5402215 ,  -24.11535221,\n",
       "          -15.17679532,   27.00253483]]),\n",
       " array([45982.00845574, 28489.38656185, 25108.82974935, ...,\n",
       "        15957.73932679, 15956.68033059, 15955.62149747]))"
      ]
     },
     "execution_count": 683,
     "metadata": {},
     "output_type": "execute_result"
    }
   ],
   "source": [
    "linear_regression(x_gd, y_gd, 0.0005, 5000)"
   ]
  },
  {
   "cell_type": "code",
   "execution_count": 684,
   "id": "7fe73a60",
   "metadata": {},
   "outputs": [],
   "source": [
    "def predicted_values(coeff,x_test):\n",
    "    y = []\n",
    "    for i in range(len(x_test)):\n",
    "        y.append( coeff [0] + coeff[1]*x_test[i][0] +  coeff[2]*x_test[i][1] +  coeff[3]*x_test[i][2] +  coeff[4]*x_test[i][3] +  coeff[5]*x_test[i][4])\n",
    "    return y        "
   ]
  },
  {
   "cell_type": "code",
   "execution_count": 686,
   "id": "d0a0216d",
   "metadata": {},
   "outputs": [],
   "source": [
    "x_test_gd = x_test.to_numpy()"
   ]
  },
  {
   "cell_type": "code",
   "execution_count": 688,
   "id": "829cc7f8",
   "metadata": {},
   "outputs": [],
   "source": [
    "y_pred = predicted_values(theta[0], x_test_gd)"
   ]
  },
  {
   "cell_type": "code",
   "execution_count": 689,
   "id": "6feca74c",
   "metadata": {},
   "outputs": [],
   "source": [
    "r2 = r2_score(y_test.to_numpy(), y_pred)\n"
   ]
  },
  {
   "cell_type": "code",
   "execution_count": 690,
   "id": "459a3761",
   "metadata": {},
   "outputs": [
    {
     "data": {
      "text/plain": [
       "0.7488452393954796"
      ]
     },
     "execution_count": 690,
     "metadata": {},
     "output_type": "execute_result"
    }
   ],
   "source": [
    "r2"
   ]
  },
  {
   "cell_type": "code",
   "execution_count": 691,
   "id": "b3d3533d",
   "metadata": {},
   "outputs": [
    {
     "data": {
      "text/plain": [
       "27562.300718803224"
      ]
     },
     "execution_count": 691,
     "metadata": {},
     "output_type": "execute_result"
    }
   ],
   "source": [
    "metrics.mean_squared_error(y_test,y_pred)"
   ]
  },
  {
   "cell_type": "code",
   "execution_count": 692,
   "id": "3a6b75d3",
   "metadata": {},
   "outputs": [
    {
     "data": {
      "text/plain": [
       "166.01897698396778"
      ]
     },
     "execution_count": 692,
     "metadata": {},
     "output_type": "execute_result"
    }
   ],
   "source": [
    "np.sqrt(metrics.mean_squared_error(y_test,y_pred))"
   ]
  },
  {
   "cell_type": "markdown",
   "id": "49e66f51",
   "metadata": {},
   "source": [
    "# SGDRegressor"
   ]
  },
  {
   "cell_type": "code",
   "execution_count": 696,
   "id": "0e9bf8a4",
   "metadata": {},
   "outputs": [
    {
     "data": {
      "text/plain": [
       "Pipeline(steps=[('standardscaler', StandardScaler()),\n",
       "                ('sgdregressor', SGDRegressor())])"
      ]
     },
     "execution_count": 696,
     "metadata": {},
     "output_type": "execute_result"
    }
   ],
   "source": [
    "from sklearn.linear_model import SGDRegressor\n",
    "from sklearn.pipeline import make_pipeline\n",
    "from sklearn.preprocessing import StandardScaler\n",
    "X = df[['Weight1','Height', 'Width_float','Length_float','Weight_float']]\n",
    "y = df['Cost']\n",
    "\n",
    "x_train,x_test,y_train,y_test = train_test_split(X,y,test_size=0.2)\n",
    "\n",
    "\n",
    "n_samples, n_features = 159, 6\n",
    "rng = np.random.RandomState(0)\n",
    "y = rng.randn(n_samples)\n",
    "X = rng.randn(n_samples, n_features)\n",
    "# Always scale the input. The most convenient way is to use a pipeline.\n",
    "reg = make_pipeline(StandardScaler(),\n",
    "                    SGDRegressor(max_iter=1000, tol=1e-3))\n",
    "reg.fit(x_train, y_train)\n"
   ]
  },
  {
   "cell_type": "code",
   "execution_count": 697,
   "id": "5f7b384e",
   "metadata": {},
   "outputs": [
    {
     "data": {
      "text/html": [
       "<div>\n",
       "<style scoped>\n",
       "    .dataframe tbody tr th:only-of-type {\n",
       "        vertical-align: middle;\n",
       "    }\n",
       "\n",
       "    .dataframe tbody tr th {\n",
       "        vertical-align: top;\n",
       "    }\n",
       "\n",
       "    .dataframe thead th {\n",
       "        text-align: right;\n",
       "    }\n",
       "</style>\n",
       "<table border=\"1\" class=\"dataframe\">\n",
       "  <thead>\n",
       "    <tr style=\"text-align: right;\">\n",
       "      <th></th>\n",
       "      <th>Weight1</th>\n",
       "      <th>Height</th>\n",
       "      <th>Width_float</th>\n",
       "      <th>Length_float</th>\n",
       "      <th>Weight_float</th>\n",
       "    </tr>\n",
       "  </thead>\n",
       "  <tbody>\n",
       "    <tr>\n",
       "      <th>49</th>\n",
       "      <td>27.0</td>\n",
       "      <td>8.5680</td>\n",
       "      <td>4.7736</td>\n",
       "      <td>30.6</td>\n",
       "      <td>25.0</td>\n",
       "    </tr>\n",
       "    <tr>\n",
       "      <th>26</th>\n",
       "      <td>36.0</td>\n",
       "      <td>16.8896</td>\n",
       "      <td>6.1984</td>\n",
       "      <td>41.6</td>\n",
       "      <td>32.8</td>\n",
       "    </tr>\n",
       "    <tr>\n",
       "      <th>50</th>\n",
       "      <td>31.7</td>\n",
       "      <td>9.4850</td>\n",
       "      <td>5.3550</td>\n",
       "      <td>35.0</td>\n",
       "      <td>29.5</td>\n",
       "    </tr>\n",
       "    <tr>\n",
       "      <th>83</th>\n",
       "      <td>22.0</td>\n",
       "      <td>6.1100</td>\n",
       "      <td>3.5250</td>\n",
       "      <td>23.5</td>\n",
       "      <td>20.0</td>\n",
       "    </tr>\n",
       "    <tr>\n",
       "      <th>91</th>\n",
       "      <td>24.0</td>\n",
       "      <td>7.2930</td>\n",
       "      <td>3.7230</td>\n",
       "      <td>25.5</td>\n",
       "      <td>22.0</td>\n",
       "    </tr>\n",
       "  </tbody>\n",
       "</table>\n",
       "</div>"
      ],
      "text/plain": [
       "    Weight1   Height  Width_float  Length_float  Weight_float\n",
       "49     27.0   8.5680       4.7736          30.6          25.0\n",
       "26     36.0  16.8896       6.1984          41.6          32.8\n",
       "50     31.7   9.4850       5.3550          35.0          29.5\n",
       "83     22.0   6.1100       3.5250          23.5          20.0\n",
       "91     24.0   7.2930       3.7230          25.5          22.0"
      ]
     },
     "execution_count": 697,
     "metadata": {},
     "output_type": "execute_result"
    }
   ],
   "source": [
    "x_test.head()"
   ]
  },
  {
   "cell_type": "code",
   "execution_count": 222,
   "id": "b56f8061",
   "metadata": {},
   "outputs": [
    {
     "data": {
      "text/plain": [
       "Text(0.5, 1.0, 'Price From Dataset Vs Price Predicted By Model')"
      ]
     },
     "execution_count": 222,
     "metadata": {},
     "output_type": "execute_result"
    },
    {
     "data": {
      "image/png": "[encoded data removed]",
      "text/plain": [
       "<Figure size 720x432 with 1 Axes>"
      ]
     },
     "metadata": {
      "needs_background": "light"
     },
     "output_type": "display_data"
    }
   ],
   "source": [
    "plt.scatter(y_train, reg.predict(x_train))\n",
    "plt.xlabel('Price From Dataset')\n",
    "plt.ylabel('Price Predicted By Model')\n",
    "plt.rcParams[\"figure.figsize\"] = (10,6) # Custom figure size in inches\n",
    "plt.title(\"Price From Dataset Vs Price Predicted By Model\")\n",
    "\n"
   ]
  },
  {
   "cell_type": "code",
   "execution_count": 700,
   "id": "85e60b54",
   "metadata": {},
   "outputs": [
    {
     "data": {
      "text/plain": [
       "0.8588390594822215"
      ]
     },
     "execution_count": 700,
     "metadata": {},
     "output_type": "execute_result"
    }
   ],
   "source": [
    "r2_score(y_test, reg.predict(x_test))\n",
    "\n",
    "\n"
   ]
  },
  {
   "cell_type": "code",
   "execution_count": 702,
   "id": "92ad6059",
   "metadata": {},
   "outputs": [
    {
     "data": {
      "text/plain": [
       "162812.09391277807"
      ]
     },
     "execution_count": 702,
     "metadata": {},
     "output_type": "execute_result"
    }
   ],
   "source": [
    "metrics.mean_squared_error(y_test,y_pred)"
   ]
  },
  {
   "cell_type": "code",
   "execution_count": 703,
   "id": "2dd080f1",
   "metadata": {},
   "outputs": [
    {
     "data": {
      "text/plain": [
       "403.49980658332174"
      ]
     },
     "execution_count": 703,
     "metadata": {},
     "output_type": "execute_result"
    }
   ],
   "source": [
    "np.sqrt(metrics.mean_squared_error(y_test,y_pred))"
   ]
  },
  {
   "cell_type": "markdown",
   "id": "d26894d3",
   "metadata": {},
   "source": [
    "# Summary"
   ]
  },
  {
   "cell_type": "markdown",
   "id": "c0491194",
   "metadata": {},
   "source": [
    "The size of dataset is too low. Cost greatly depends on Weight1, Weight and Length as per the correlation matrix. On running F-Statistics, all features seem relevant. We see some variation in score metrics when the regression code is run again.This is because the testing and training data set extracted get shuffled. I achieved r-square best in case of OLS. But I believe it could be equally good for Gradient descent too if the number of iterations is increased further. Stochastic Gradient Descent achieved fair results as it optimized the number of computations required ( taking one data set at a time) ."
   ]
  }
 ],
 "metadata": {
  "kernelspec": {
   "display_name": "Python 3",
   "language": "python",
   "name": "python3"
  },
  "language_info": {
   "codemirror_mode": {
    "name": "ipython",
    "version": 3
   },
   "file_extension": ".py",
   "mimetype": "text/x-python",
   "name": "python",
   "nbconvert_exporter": "python",
   "pygments_lexer": "ipython3",
   "version": "3.9.4"
  }
 },
 "nbformat": 4,
 "nbformat_minor": 5
}
