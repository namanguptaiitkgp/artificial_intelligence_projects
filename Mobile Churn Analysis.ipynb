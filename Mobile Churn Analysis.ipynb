{
 "cells": [
  {
   "cell_type": "markdown",
   "metadata": {},
   "source": [
    "# Mobile Customer Churn\n",
    "\n",
    "In this Portfolio task you will work with some (fake but realistic) data on Mobile Customer Churn.  Churn is where\n",
    "a customer leaves the mobile provider.   The goal is to build a simple predictive model to predict churn from available features. \n",
    "\n",
    "The data was generated (by Hume Winzar at Macquarie) based on a real dataset provided by Optus.  The data is simulated but the column headings are the same. (Note that I'm not sure if all of the real relationships in this data are preserved so you need to be cautious in interpreting the results of your analysis here).  \n",
    "\n",
    "The data is provided in file `MobileCustomerChurn.csv` and column headings are defined in a file `MobileChurnDataDictionary.csv` (store these in the `files` folder in your project).\n",
    "\n",
    "Your high level goal in this notebook is to try to build and evaluate a __predictive model for churn__ - predict the value of the CHURN_IND field in the data from some of the other fields.  Note that the three `RECON` fields should not be used as they indicate whether the customer reconnected after having churned. \n",
    "\n",
    "__Note:__ you are not being evaluated on the _accuracy_ of the model but on the _process_ that you use to generate it.  You can use a simple model such as Logistic Regression for this task or try one of the more advanced methods covered in recent weeks.  Explore the data, build a model using a selection of features and then do some work on finding out which features provide the most accurate results.  "
   ]
  },
  {
   "cell_type": "code",
   "execution_count": 2,
   "metadata": {},
   "outputs": [],
   "source": [
    "import pandas as pd\n",
    "import numpy as np\n",
    "import matplotlib.pyplot as plt\n",
    "import seaborn as sns\n",
    "%matplotlib inline"
   ]
  },
  {
   "cell_type": "code",
   "execution_count": 3,
   "metadata": {},
   "outputs": [],
   "source": [
    "churn_df = pd.read_csv(\"MobileCustomerChurn.csv\", na_values=[\"NA\", \"#VALUE!\"], index_col='INDEX')"
   ]
  },
  {
   "cell_type": "markdown",
   "metadata": {},
   "source": [
    "# Preparing Data"
   ]
  },
  {
   "cell_type": "code",
   "execution_count": 4,
   "metadata": {},
   "outputs": [],
   "source": [
    "churn =churn_df.drop(columns = ['CUST_ID','RECON_SMS_NEXT_MTH','RECON_TELE_NEXT_MTH','RECON_EMAIL_NEXT_MTH'])"
   ]
  },
  {
   "cell_type": "code",
   "execution_count": 5,
   "metadata": {},
   "outputs": [
    {
     "data": {
      "text/html": [
       "<div>\n",
       "<style scoped>\n",
       "    .dataframe tbody tr th:only-of-type {\n",
       "        vertical-align: middle;\n",
       "    }\n",
       "\n",
       "    .dataframe tbody tr th {\n",
       "        vertical-align: top;\n",
       "    }\n",
       "\n",
       "    .dataframe thead th {\n",
       "        text-align: right;\n",
       "    }\n",
       "</style>\n",
       "<table border=\"1\" class=\"dataframe\">\n",
       "  <thead>\n",
       "    <tr style=\"text-align: right;\">\n",
       "      <th></th>\n",
       "      <th>ACCOUNT_TENURE</th>\n",
       "      <th>ACCT_CNT_SERVICES</th>\n",
       "      <th>AGE</th>\n",
       "      <th>CFU</th>\n",
       "      <th>SERVICE_TENURE</th>\n",
       "      <th>PLAN_ACCESS_FEE</th>\n",
       "      <th>BYO_PLAN_STATUS</th>\n",
       "      <th>PLAN_TENURE</th>\n",
       "      <th>MONTHS_OF_CONTRACT_REMAINING</th>\n",
       "      <th>LAST_FX_CONTRACT_DURATION</th>\n",
       "      <th>CONTRACT_STATUS</th>\n",
       "      <th>PREV_CONTRACT_DURATION</th>\n",
       "      <th>HANDSET_USED_BRAND</th>\n",
       "      <th>CHURN_IND</th>\n",
       "      <th>MONTHLY_SPEND</th>\n",
       "      <th>COUNTRY_METRO_REGION</th>\n",
       "      <th>STATE</th>\n",
       "    </tr>\n",
       "    <tr>\n",
       "      <th>INDEX</th>\n",
       "      <th></th>\n",
       "      <th></th>\n",
       "      <th></th>\n",
       "      <th></th>\n",
       "      <th></th>\n",
       "      <th></th>\n",
       "      <th></th>\n",
       "      <th></th>\n",
       "      <th></th>\n",
       "      <th></th>\n",
       "      <th></th>\n",
       "      <th></th>\n",
       "      <th></th>\n",
       "      <th></th>\n",
       "      <th></th>\n",
       "      <th></th>\n",
       "      <th></th>\n",
       "    </tr>\n",
       "  </thead>\n",
       "  <tbody>\n",
       "    <tr>\n",
       "      <th>1</th>\n",
       "      <td>46</td>\n",
       "      <td>1</td>\n",
       "      <td>30.0</td>\n",
       "      <td>CONSUMER</td>\n",
       "      <td>46</td>\n",
       "      <td>54.54</td>\n",
       "      <td>NON BYO</td>\n",
       "      <td>15</td>\n",
       "      <td>0</td>\n",
       "      <td>24</td>\n",
       "      <td>OFF-CONTRACT</td>\n",
       "      <td>24</td>\n",
       "      <td>SAMSUNG</td>\n",
       "      <td>1</td>\n",
       "      <td>61.40</td>\n",
       "      <td>COUNTRY</td>\n",
       "      <td>WA</td>\n",
       "    </tr>\n",
       "    <tr>\n",
       "      <th>2</th>\n",
       "      <td>60</td>\n",
       "      <td>3</td>\n",
       "      <td>55.0</td>\n",
       "      <td>CONSUMER</td>\n",
       "      <td>59</td>\n",
       "      <td>54.54</td>\n",
       "      <td>NON BYO</td>\n",
       "      <td>5</td>\n",
       "      <td>0</td>\n",
       "      <td>24</td>\n",
       "      <td>OFF-CONTRACT</td>\n",
       "      <td>24</td>\n",
       "      <td>APPLE</td>\n",
       "      <td>1</td>\n",
       "      <td>54.54</td>\n",
       "      <td>METRO</td>\n",
       "      <td>NSW</td>\n",
       "    </tr>\n",
       "    <tr>\n",
       "      <th>3</th>\n",
       "      <td>65</td>\n",
       "      <td>1</td>\n",
       "      <td>29.0</td>\n",
       "      <td>CONSUMER</td>\n",
       "      <td>65</td>\n",
       "      <td>40.90</td>\n",
       "      <td>BYO</td>\n",
       "      <td>15</td>\n",
       "      <td>0</td>\n",
       "      <td>12</td>\n",
       "      <td>OFF-CONTRACT</td>\n",
       "      <td>12</td>\n",
       "      <td>APPLE</td>\n",
       "      <td>1</td>\n",
       "      <td>2.50</td>\n",
       "      <td>COUNTRY</td>\n",
       "      <td>WA</td>\n",
       "    </tr>\n",
       "    <tr>\n",
       "      <th>4</th>\n",
       "      <td>31</td>\n",
       "      <td>1</td>\n",
       "      <td>51.0</td>\n",
       "      <td>CONSUMER</td>\n",
       "      <td>31</td>\n",
       "      <td>31.81</td>\n",
       "      <td>NON BYO</td>\n",
       "      <td>31</td>\n",
       "      <td>0</td>\n",
       "      <td>24</td>\n",
       "      <td>OFF-CONTRACT</td>\n",
       "      <td>24</td>\n",
       "      <td>APPLE</td>\n",
       "      <td>1</td>\n",
       "      <td>6.48</td>\n",
       "      <td>COUNTRY</td>\n",
       "      <td>VIC</td>\n",
       "    </tr>\n",
       "    <tr>\n",
       "      <th>5</th>\n",
       "      <td>95</td>\n",
       "      <td>1</td>\n",
       "      <td>31.0</td>\n",
       "      <td>CONSUMER</td>\n",
       "      <td>95</td>\n",
       "      <td>54.54</td>\n",
       "      <td>NON BYO</td>\n",
       "      <td>0</td>\n",
       "      <td>0</td>\n",
       "      <td>24</td>\n",
       "      <td>OFF-CONTRACT</td>\n",
       "      <td>24</td>\n",
       "      <td>APPLE</td>\n",
       "      <td>1</td>\n",
       "      <td>100.22</td>\n",
       "      <td>METRO</td>\n",
       "      <td>NSW</td>\n",
       "    </tr>\n",
       "  </tbody>\n",
       "</table>\n",
       "</div>"
      ],
      "text/plain": [
       "       ACCOUNT_TENURE  ACCT_CNT_SERVICES   AGE       CFU  SERVICE_TENURE  \\\n",
       "INDEX                                                                      \n",
       "1                  46                  1  30.0  CONSUMER              46   \n",
       "2                  60                  3  55.0  CONSUMER              59   \n",
       "3                  65                  1  29.0  CONSUMER              65   \n",
       "4                  31                  1  51.0  CONSUMER              31   \n",
       "5                  95                  1  31.0  CONSUMER              95   \n",
       "\n",
       "       PLAN_ACCESS_FEE BYO_PLAN_STATUS  PLAN_TENURE  \\\n",
       "INDEX                                                 \n",
       "1                54.54         NON BYO           15   \n",
       "2                54.54         NON BYO            5   \n",
       "3                40.90             BYO           15   \n",
       "4                31.81         NON BYO           31   \n",
       "5                54.54         NON BYO            0   \n",
       "\n",
       "       MONTHS_OF_CONTRACT_REMAINING  LAST_FX_CONTRACT_DURATION  \\\n",
       "INDEX                                                            \n",
       "1                                 0                         24   \n",
       "2                                 0                         24   \n",
       "3                                 0                         12   \n",
       "4                                 0                         24   \n",
       "5                                 0                         24   \n",
       "\n",
       "      CONTRACT_STATUS  PREV_CONTRACT_DURATION HANDSET_USED_BRAND  CHURN_IND  \\\n",
       "INDEX                                                                         \n",
       "1        OFF-CONTRACT                      24            SAMSUNG          1   \n",
       "2        OFF-CONTRACT                      24              APPLE          1   \n",
       "3        OFF-CONTRACT                      12              APPLE          1   \n",
       "4        OFF-CONTRACT                      24              APPLE          1   \n",
       "5        OFF-CONTRACT                      24              APPLE          1   \n",
       "\n",
       "       MONTHLY_SPEND COUNTRY_METRO_REGION STATE  \n",
       "INDEX                                            \n",
       "1              61.40              COUNTRY    WA  \n",
       "2              54.54                METRO   NSW  \n",
       "3               2.50              COUNTRY    WA  \n",
       "4               6.48              COUNTRY   VIC  \n",
       "5             100.22                METRO   NSW  "
      ]
     },
     "execution_count": 5,
     "metadata": {},
     "output_type": "execute_result"
    }
   ],
   "source": [
    "churn.head()"
   ]
  },
  {
   "cell_type": "markdown",
   "metadata": {},
   "source": [
    "Ways to handle string data for Predictive Model\n",
    "1. Label Encoding - Assigns number in form of order\n",
    "2. Label Binarizer.\n",
    "3. OneHot Encoding - Order free conversion for labels to integer. One-Hot Encoding results in a Dummy Variable Trap as the outcome of one variable can easily be predicted with the help of the remaining variables.The Dummy Variable Trap leads to the problem known as multicollinearity. Multicollinearity occurs where there is a dependency between the independent features. Multicollinearity is a serious issue in machine learning models like Linear Regression and Logistic Regression."
   ]
  },
  {
   "cell_type": "code",
   "execution_count": 6,
   "metadata": {},
   "outputs": [],
   "source": [
    "from sklearn import preprocessing\n",
    "label_encoder = preprocessing.LabelEncoder()"
   ]
  },
  {
   "cell_type": "code",
   "execution_count": 7,
   "metadata": {},
   "outputs": [
    {
     "data": {
      "text/plain": [
       "array(['NON BYO', 'BYO'], dtype=object)"
      ]
     },
     "execution_count": 7,
     "metadata": {},
     "output_type": "execute_result"
    }
   ],
   "source": [
    "churn.BYO_PLAN_STATUS.unique()"
   ]
  },
  {
   "cell_type": "markdown",
   "metadata": {},
   "source": [
    "Label Encoding should be done here as the two classifications are relative"
   ]
  },
  {
   "cell_type": "code",
   "execution_count": 8,
   "metadata": {},
   "outputs": [],
   "source": [
    "churn['BYO_PLAN_STATUS']= label_encoder.fit_transform(churn['BYO_PLAN_STATUS']) "
   ]
  },
  {
   "cell_type": "code",
   "execution_count": 9,
   "metadata": {},
   "outputs": [
    {
     "data": {
      "text/html": [
       "<div>\n",
       "<style scoped>\n",
       "    .dataframe tbody tr th:only-of-type {\n",
       "        vertical-align: middle;\n",
       "    }\n",
       "\n",
       "    .dataframe tbody tr th {\n",
       "        vertical-align: top;\n",
       "    }\n",
       "\n",
       "    .dataframe thead th {\n",
       "        text-align: right;\n",
       "    }\n",
       "</style>\n",
       "<table border=\"1\" class=\"dataframe\">\n",
       "  <thead>\n",
       "    <tr style=\"text-align: right;\">\n",
       "      <th></th>\n",
       "      <th>ACCOUNT_TENURE</th>\n",
       "      <th>ACCT_CNT_SERVICES</th>\n",
       "      <th>AGE</th>\n",
       "      <th>CFU</th>\n",
       "      <th>SERVICE_TENURE</th>\n",
       "      <th>PLAN_ACCESS_FEE</th>\n",
       "      <th>BYO_PLAN_STATUS</th>\n",
       "      <th>PLAN_TENURE</th>\n",
       "      <th>MONTHS_OF_CONTRACT_REMAINING</th>\n",
       "      <th>LAST_FX_CONTRACT_DURATION</th>\n",
       "      <th>CONTRACT_STATUS</th>\n",
       "      <th>PREV_CONTRACT_DURATION</th>\n",
       "      <th>HANDSET_USED_BRAND</th>\n",
       "      <th>CHURN_IND</th>\n",
       "      <th>MONTHLY_SPEND</th>\n",
       "      <th>COUNTRY_METRO_REGION</th>\n",
       "      <th>STATE</th>\n",
       "    </tr>\n",
       "    <tr>\n",
       "      <th>INDEX</th>\n",
       "      <th></th>\n",
       "      <th></th>\n",
       "      <th></th>\n",
       "      <th></th>\n",
       "      <th></th>\n",
       "      <th></th>\n",
       "      <th></th>\n",
       "      <th></th>\n",
       "      <th></th>\n",
       "      <th></th>\n",
       "      <th></th>\n",
       "      <th></th>\n",
       "      <th></th>\n",
       "      <th></th>\n",
       "      <th></th>\n",
       "      <th></th>\n",
       "      <th></th>\n",
       "    </tr>\n",
       "  </thead>\n",
       "  <tbody>\n",
       "    <tr>\n",
       "      <th>1</th>\n",
       "      <td>46</td>\n",
       "      <td>1</td>\n",
       "      <td>30.0</td>\n",
       "      <td>CONSUMER</td>\n",
       "      <td>46</td>\n",
       "      <td>54.54</td>\n",
       "      <td>1</td>\n",
       "      <td>15</td>\n",
       "      <td>0</td>\n",
       "      <td>24</td>\n",
       "      <td>OFF-CONTRACT</td>\n",
       "      <td>24</td>\n",
       "      <td>SAMSUNG</td>\n",
       "      <td>1</td>\n",
       "      <td>61.40</td>\n",
       "      <td>COUNTRY</td>\n",
       "      <td>WA</td>\n",
       "    </tr>\n",
       "    <tr>\n",
       "      <th>2</th>\n",
       "      <td>60</td>\n",
       "      <td>3</td>\n",
       "      <td>55.0</td>\n",
       "      <td>CONSUMER</td>\n",
       "      <td>59</td>\n",
       "      <td>54.54</td>\n",
       "      <td>1</td>\n",
       "      <td>5</td>\n",
       "      <td>0</td>\n",
       "      <td>24</td>\n",
       "      <td>OFF-CONTRACT</td>\n",
       "      <td>24</td>\n",
       "      <td>APPLE</td>\n",
       "      <td>1</td>\n",
       "      <td>54.54</td>\n",
       "      <td>METRO</td>\n",
       "      <td>NSW</td>\n",
       "    </tr>\n",
       "    <tr>\n",
       "      <th>3</th>\n",
       "      <td>65</td>\n",
       "      <td>1</td>\n",
       "      <td>29.0</td>\n",
       "      <td>CONSUMER</td>\n",
       "      <td>65</td>\n",
       "      <td>40.90</td>\n",
       "      <td>0</td>\n",
       "      <td>15</td>\n",
       "      <td>0</td>\n",
       "      <td>12</td>\n",
       "      <td>OFF-CONTRACT</td>\n",
       "      <td>12</td>\n",
       "      <td>APPLE</td>\n",
       "      <td>1</td>\n",
       "      <td>2.50</td>\n",
       "      <td>COUNTRY</td>\n",
       "      <td>WA</td>\n",
       "    </tr>\n",
       "    <tr>\n",
       "      <th>4</th>\n",
       "      <td>31</td>\n",
       "      <td>1</td>\n",
       "      <td>51.0</td>\n",
       "      <td>CONSUMER</td>\n",
       "      <td>31</td>\n",
       "      <td>31.81</td>\n",
       "      <td>1</td>\n",
       "      <td>31</td>\n",
       "      <td>0</td>\n",
       "      <td>24</td>\n",
       "      <td>OFF-CONTRACT</td>\n",
       "      <td>24</td>\n",
       "      <td>APPLE</td>\n",
       "      <td>1</td>\n",
       "      <td>6.48</td>\n",
       "      <td>COUNTRY</td>\n",
       "      <td>VIC</td>\n",
       "    </tr>\n",
       "    <tr>\n",
       "      <th>5</th>\n",
       "      <td>95</td>\n",
       "      <td>1</td>\n",
       "      <td>31.0</td>\n",
       "      <td>CONSUMER</td>\n",
       "      <td>95</td>\n",
       "      <td>54.54</td>\n",
       "      <td>1</td>\n",
       "      <td>0</td>\n",
       "      <td>0</td>\n",
       "      <td>24</td>\n",
       "      <td>OFF-CONTRACT</td>\n",
       "      <td>24</td>\n",
       "      <td>APPLE</td>\n",
       "      <td>1</td>\n",
       "      <td>100.22</td>\n",
       "      <td>METRO</td>\n",
       "      <td>NSW</td>\n",
       "    </tr>\n",
       "  </tbody>\n",
       "</table>\n",
       "</div>"
      ],
      "text/plain": [
       "       ACCOUNT_TENURE  ACCT_CNT_SERVICES   AGE       CFU  SERVICE_TENURE  \\\n",
       "INDEX                                                                      \n",
       "1                  46                  1  30.0  CONSUMER              46   \n",
       "2                  60                  3  55.0  CONSUMER              59   \n",
       "3                  65                  1  29.0  CONSUMER              65   \n",
       "4                  31                  1  51.0  CONSUMER              31   \n",
       "5                  95                  1  31.0  CONSUMER              95   \n",
       "\n",
       "       PLAN_ACCESS_FEE  BYO_PLAN_STATUS  PLAN_TENURE  \\\n",
       "INDEX                                                  \n",
       "1                54.54                1           15   \n",
       "2                54.54                1            5   \n",
       "3                40.90                0           15   \n",
       "4                31.81                1           31   \n",
       "5                54.54                1            0   \n",
       "\n",
       "       MONTHS_OF_CONTRACT_REMAINING  LAST_FX_CONTRACT_DURATION  \\\n",
       "INDEX                                                            \n",
       "1                                 0                         24   \n",
       "2                                 0                         24   \n",
       "3                                 0                         12   \n",
       "4                                 0                         24   \n",
       "5                                 0                         24   \n",
       "\n",
       "      CONTRACT_STATUS  PREV_CONTRACT_DURATION HANDSET_USED_BRAND  CHURN_IND  \\\n",
       "INDEX                                                                         \n",
       "1        OFF-CONTRACT                      24            SAMSUNG          1   \n",
       "2        OFF-CONTRACT                      24              APPLE          1   \n",
       "3        OFF-CONTRACT                      12              APPLE          1   \n",
       "4        OFF-CONTRACT                      24              APPLE          1   \n",
       "5        OFF-CONTRACT                      24              APPLE          1   \n",
       "\n",
       "       MONTHLY_SPEND COUNTRY_METRO_REGION STATE  \n",
       "INDEX                                            \n",
       "1              61.40              COUNTRY    WA  \n",
       "2              54.54                METRO   NSW  \n",
       "3               2.50              COUNTRY    WA  \n",
       "4               6.48              COUNTRY   VIC  \n",
       "5             100.22                METRO   NSW  "
      ]
     },
     "execution_count": 9,
     "metadata": {},
     "output_type": "execute_result"
    }
   ],
   "source": [
    "churn.head()"
   ]
  },
  {
   "cell_type": "code",
   "execution_count": 10,
   "metadata": {},
   "outputs": [
    {
     "data": {
      "text/plain": [
       "array(['OFF-CONTRACT', 'ON-CONTRACT', 'NO-CONTRACT'], dtype=object)"
      ]
     },
     "execution_count": 10,
     "metadata": {},
     "output_type": "execute_result"
    }
   ],
   "source": [
    "churn.CONTRACT_STATUS.unique()"
   ]
  },
  {
   "cell_type": "markdown",
   "metadata": {},
   "source": [
    "Label Encoding 0, 1, 2 is good as can be used as these classifications of contract are relative"
   ]
  },
  {
   "cell_type": "code",
   "execution_count": 11,
   "metadata": {},
   "outputs": [],
   "source": [
    "churn['CONTRACT_STATUS']= label_encoder.fit_transform(churn['CONTRACT_STATUS']) "
   ]
  },
  {
   "cell_type": "code",
   "execution_count": 12,
   "metadata": {},
   "outputs": [
    {
     "data": {
      "text/plain": [
       "array(['SAMSUNG', 'APPLE', 'UNKNOWN', 'OTHER', 'GOOGLE', 'HUAWEI'],\n",
       "      dtype=object)"
      ]
     },
     "execution_count": 12,
     "metadata": {},
     "output_type": "execute_result"
    }
   ],
   "source": [
    "churn.HANDSET_USED_BRAND.unique()"
   ]
  },
  {
   "cell_type": "markdown",
   "metadata": {},
   "source": [
    "Lets use one hot encoding for Brand, as there is no order / rank metric possible between these brands"
   ]
  },
  {
   "cell_type": "code",
   "execution_count": 13,
   "metadata": {},
   "outputs": [],
   "source": [
    "from sklearn.preprocessing import OneHotEncoder\n",
    "onehotencoder = OneHotEncoder()\n",
    "X = onehotencoder.fit_transform(churn.HANDSET_USED_BRAND.values.reshape(-1,1)).toarray()"
   ]
  },
  {
   "cell_type": "code",
   "execution_count": 14,
   "metadata": {},
   "outputs": [],
   "source": [
    "dfOneHot = pd.DataFrame(X, columns = [\"BRAND_\"+str(int(i)) for i in range(len(churn.HANDSET_USED_BRAND.unique()))])"
   ]
  },
  {
   "cell_type": "code",
   "execution_count": 15,
   "metadata": {},
   "outputs": [
    {
     "data": {
      "text/html": [
       "<div>\n",
       "<style scoped>\n",
       "    .dataframe tbody tr th:only-of-type {\n",
       "        vertical-align: middle;\n",
       "    }\n",
       "\n",
       "    .dataframe tbody tr th {\n",
       "        vertical-align: top;\n",
       "    }\n",
       "\n",
       "    .dataframe thead th {\n",
       "        text-align: right;\n",
       "    }\n",
       "</style>\n",
       "<table border=\"1\" class=\"dataframe\">\n",
       "  <thead>\n",
       "    <tr style=\"text-align: right;\">\n",
       "      <th></th>\n",
       "      <th>BRAND_0</th>\n",
       "      <th>BRAND_1</th>\n",
       "      <th>BRAND_2</th>\n",
       "      <th>BRAND_3</th>\n",
       "      <th>BRAND_4</th>\n",
       "      <th>BRAND_5</th>\n",
       "    </tr>\n",
       "  </thead>\n",
       "  <tbody>\n",
       "    <tr>\n",
       "      <th>0</th>\n",
       "      <td>0.0</td>\n",
       "      <td>0.0</td>\n",
       "      <td>0.0</td>\n",
       "      <td>0.0</td>\n",
       "      <td>1.0</td>\n",
       "      <td>0.0</td>\n",
       "    </tr>\n",
       "    <tr>\n",
       "      <th>1</th>\n",
       "      <td>1.0</td>\n",
       "      <td>0.0</td>\n",
       "      <td>0.0</td>\n",
       "      <td>0.0</td>\n",
       "      <td>0.0</td>\n",
       "      <td>0.0</td>\n",
       "    </tr>\n",
       "    <tr>\n",
       "      <th>2</th>\n",
       "      <td>1.0</td>\n",
       "      <td>0.0</td>\n",
       "      <td>0.0</td>\n",
       "      <td>0.0</td>\n",
       "      <td>0.0</td>\n",
       "      <td>0.0</td>\n",
       "    </tr>\n",
       "    <tr>\n",
       "      <th>3</th>\n",
       "      <td>1.0</td>\n",
       "      <td>0.0</td>\n",
       "      <td>0.0</td>\n",
       "      <td>0.0</td>\n",
       "      <td>0.0</td>\n",
       "      <td>0.0</td>\n",
       "    </tr>\n",
       "    <tr>\n",
       "      <th>4</th>\n",
       "      <td>1.0</td>\n",
       "      <td>0.0</td>\n",
       "      <td>0.0</td>\n",
       "      <td>0.0</td>\n",
       "      <td>0.0</td>\n",
       "      <td>0.0</td>\n",
       "    </tr>\n",
       "    <tr>\n",
       "      <th>...</th>\n",
       "      <td>...</td>\n",
       "      <td>...</td>\n",
       "      <td>...</td>\n",
       "      <td>...</td>\n",
       "      <td>...</td>\n",
       "      <td>...</td>\n",
       "    </tr>\n",
       "    <tr>\n",
       "      <th>46201</th>\n",
       "      <td>0.0</td>\n",
       "      <td>0.0</td>\n",
       "      <td>0.0</td>\n",
       "      <td>1.0</td>\n",
       "      <td>0.0</td>\n",
       "      <td>0.0</td>\n",
       "    </tr>\n",
       "    <tr>\n",
       "      <th>46202</th>\n",
       "      <td>0.0</td>\n",
       "      <td>0.0</td>\n",
       "      <td>0.0</td>\n",
       "      <td>0.0</td>\n",
       "      <td>0.0</td>\n",
       "      <td>1.0</td>\n",
       "    </tr>\n",
       "    <tr>\n",
       "      <th>46203</th>\n",
       "      <td>1.0</td>\n",
       "      <td>0.0</td>\n",
       "      <td>0.0</td>\n",
       "      <td>0.0</td>\n",
       "      <td>0.0</td>\n",
       "      <td>0.0</td>\n",
       "    </tr>\n",
       "    <tr>\n",
       "      <th>46204</th>\n",
       "      <td>1.0</td>\n",
       "      <td>0.0</td>\n",
       "      <td>0.0</td>\n",
       "      <td>0.0</td>\n",
       "      <td>0.0</td>\n",
       "      <td>0.0</td>\n",
       "    </tr>\n",
       "    <tr>\n",
       "      <th>46205</th>\n",
       "      <td>1.0</td>\n",
       "      <td>0.0</td>\n",
       "      <td>0.0</td>\n",
       "      <td>0.0</td>\n",
       "      <td>0.0</td>\n",
       "      <td>0.0</td>\n",
       "    </tr>\n",
       "  </tbody>\n",
       "</table>\n",
       "<p>46206 rows × 6 columns</p>\n",
       "</div>"
      ],
      "text/plain": [
       "       BRAND_0  BRAND_1  BRAND_2  BRAND_3  BRAND_4  BRAND_5\n",
       "0          0.0      0.0      0.0      0.0      1.0      0.0\n",
       "1          1.0      0.0      0.0      0.0      0.0      0.0\n",
       "2          1.0      0.0      0.0      0.0      0.0      0.0\n",
       "3          1.0      0.0      0.0      0.0      0.0      0.0\n",
       "4          1.0      0.0      0.0      0.0      0.0      0.0\n",
       "...        ...      ...      ...      ...      ...      ...\n",
       "46201      0.0      0.0      0.0      1.0      0.0      0.0\n",
       "46202      0.0      0.0      0.0      0.0      0.0      1.0\n",
       "46203      1.0      0.0      0.0      0.0      0.0      0.0\n",
       "46204      1.0      0.0      0.0      0.0      0.0      0.0\n",
       "46205      1.0      0.0      0.0      0.0      0.0      0.0\n",
       "\n",
       "[46206 rows x 6 columns]"
      ]
     },
     "execution_count": 15,
     "metadata": {},
     "output_type": "execute_result"
    }
   ],
   "source": [
    "dfOneHot "
   ]
  },
  {
   "cell_type": "code",
   "execution_count": 16,
   "metadata": {},
   "outputs": [],
   "source": [
    "churn_brand = pd.concat([churn, dfOneHot], axis=1)"
   ]
  },
  {
   "cell_type": "code",
   "execution_count": 17,
   "metadata": {},
   "outputs": [
    {
     "data": {
      "text/plain": [
       "array(['COUNTRY', 'METRO', nan], dtype=object)"
      ]
     },
     "execution_count": 17,
     "metadata": {},
     "output_type": "execute_result"
    }
   ],
   "source": [
    "churn.COUNTRY_METRO_REGION.unique()"
   ]
  },
  {
   "cell_type": "markdown",
   "metadata": {},
   "source": [
    "Label Encoding 0 and 1 is good as METRO region use more mobiles than Country"
   ]
  },
  {
   "cell_type": "code",
   "execution_count": 18,
   "metadata": {},
   "outputs": [
    {
     "data": {
      "text/html": [
       "<div>\n",
       "<style scoped>\n",
       "    .dataframe tbody tr th:only-of-type {\n",
       "        vertical-align: middle;\n",
       "    }\n",
       "\n",
       "    .dataframe tbody tr th {\n",
       "        vertical-align: top;\n",
       "    }\n",
       "\n",
       "    .dataframe thead th {\n",
       "        text-align: right;\n",
       "    }\n",
       "</style>\n",
       "<table border=\"1\" class=\"dataframe\">\n",
       "  <thead>\n",
       "    <tr style=\"text-align: right;\">\n",
       "      <th></th>\n",
       "      <th>ACCOUNT_TENURE</th>\n",
       "      <th>ACCT_CNT_SERVICES</th>\n",
       "      <th>AGE</th>\n",
       "      <th>CFU</th>\n",
       "      <th>SERVICE_TENURE</th>\n",
       "      <th>PLAN_ACCESS_FEE</th>\n",
       "      <th>BYO_PLAN_STATUS</th>\n",
       "      <th>PLAN_TENURE</th>\n",
       "      <th>MONTHS_OF_CONTRACT_REMAINING</th>\n",
       "      <th>LAST_FX_CONTRACT_DURATION</th>\n",
       "      <th>CONTRACT_STATUS</th>\n",
       "      <th>PREV_CONTRACT_DURATION</th>\n",
       "      <th>HANDSET_USED_BRAND</th>\n",
       "      <th>CHURN_IND</th>\n",
       "      <th>MONTHLY_SPEND</th>\n",
       "      <th>COUNTRY_METRO_REGION</th>\n",
       "      <th>STATE</th>\n",
       "    </tr>\n",
       "    <tr>\n",
       "      <th>INDEX</th>\n",
       "      <th></th>\n",
       "      <th></th>\n",
       "      <th></th>\n",
       "      <th></th>\n",
       "      <th></th>\n",
       "      <th></th>\n",
       "      <th></th>\n",
       "      <th></th>\n",
       "      <th></th>\n",
       "      <th></th>\n",
       "      <th></th>\n",
       "      <th></th>\n",
       "      <th></th>\n",
       "      <th></th>\n",
       "      <th></th>\n",
       "      <th></th>\n",
       "      <th></th>\n",
       "    </tr>\n",
       "  </thead>\n",
       "  <tbody>\n",
       "    <tr>\n",
       "      <th>23119</th>\n",
       "      <td>94</td>\n",
       "      <td>1</td>\n",
       "      <td>52.0</td>\n",
       "      <td>CONSUMER</td>\n",
       "      <td>194</td>\n",
       "      <td>72.72</td>\n",
       "      <td>1</td>\n",
       "      <td>3</td>\n",
       "      <td>21</td>\n",
       "      <td>24</td>\n",
       "      <td>2</td>\n",
       "      <td>24</td>\n",
       "      <td>APPLE</td>\n",
       "      <td>0</td>\n",
       "      <td>72.72</td>\n",
       "      <td>NaN</td>\n",
       "      <td>NaN</td>\n",
       "    </tr>\n",
       "  </tbody>\n",
       "</table>\n",
       "</div>"
      ],
      "text/plain": [
       "       ACCOUNT_TENURE  ACCT_CNT_SERVICES   AGE       CFU  SERVICE_TENURE  \\\n",
       "INDEX                                                                      \n",
       "23119              94                  1  52.0  CONSUMER             194   \n",
       "\n",
       "       PLAN_ACCESS_FEE  BYO_PLAN_STATUS  PLAN_TENURE  \\\n",
       "INDEX                                                  \n",
       "23119            72.72                1            3   \n",
       "\n",
       "       MONTHS_OF_CONTRACT_REMAINING  LAST_FX_CONTRACT_DURATION  \\\n",
       "INDEX                                                            \n",
       "23119                            21                         24   \n",
       "\n",
       "       CONTRACT_STATUS  PREV_CONTRACT_DURATION HANDSET_USED_BRAND  CHURN_IND  \\\n",
       "INDEX                                                                          \n",
       "23119                2                      24              APPLE          0   \n",
       "\n",
       "       MONTHLY_SPEND COUNTRY_METRO_REGION STATE  \n",
       "INDEX                                            \n",
       "23119          72.72                  NaN   NaN  "
      ]
     },
     "execution_count": 18,
     "metadata": {},
     "output_type": "execute_result"
    }
   ],
   "source": [
    "churn[churn.COUNTRY_METRO_REGION.isnull() == True]\n",
    "    "
   ]
  },
  {
   "cell_type": "code",
   "execution_count": 19,
   "metadata": {},
   "outputs": [],
   "source": [
    "churn_brand.dropna(inplace = True)\n",
    "    "
   ]
  },
  {
   "cell_type": "code",
   "execution_count": 20,
   "metadata": {},
   "outputs": [
    {
     "data": {
      "text/plain": [
       "array(['COUNTRY', 'METRO'], dtype=object)"
      ]
     },
     "execution_count": 20,
     "metadata": {},
     "output_type": "execute_result"
    }
   ],
   "source": [
    "churn_brand.COUNTRY_METRO_REGION.unique()"
   ]
  },
  {
   "cell_type": "code",
   "execution_count": 21,
   "metadata": {},
   "outputs": [],
   "source": [
    "churn_brand['COUNTRY_METRO_REGION']= label_encoder.fit_transform(churn_brand['COUNTRY_METRO_REGION']) "
   ]
  },
  {
   "cell_type": "code",
   "execution_count": 22,
   "metadata": {},
   "outputs": [
    {
     "data": {
      "text/plain": [
       "array(['CONSUMER', 'SMALL BUSINESS'], dtype=object)"
      ]
     },
     "execution_count": 22,
     "metadata": {},
     "output_type": "execute_result"
    }
   ],
   "source": [
    "churn.CFU.unique()"
   ]
  },
  {
   "cell_type": "code",
   "execution_count": 23,
   "metadata": {},
   "outputs": [],
   "source": [
    "churn_brand['CFU']= label_encoder.fit_transform(churn_brand['CFU']) "
   ]
  },
  {
   "cell_type": "code",
   "execution_count": 24,
   "metadata": {},
   "outputs": [
    {
     "data": {
      "text/plain": [
       "0.0    28365\n",
       "1.0    17763\n",
       "Name: CHURN_IND, dtype: int64"
      ]
     },
     "execution_count": 24,
     "metadata": {},
     "output_type": "execute_result"
    }
   ],
   "source": [
    "churn_brand.CHURN_IND.value_counts()"
   ]
  },
  {
   "cell_type": "markdown",
   "metadata": {},
   "source": [
    "Data is biased towards 0. We can manage this by Bagging or Boosting methods of predictive Classificaiton"
   ]
  },
  {
   "cell_type": "markdown",
   "metadata": {},
   "source": [
    "Given the size of data is huge, lets drop STATE Feature and assume that Mobile Churn is a general phenomenon"
   ]
  },
  {
   "cell_type": "code",
   "execution_count": 25,
   "metadata": {},
   "outputs": [],
   "source": [
    "churn_brand.drop(columns = ['STATE'],inplace= True)"
   ]
  },
  {
   "cell_type": "code",
   "execution_count": 35,
   "metadata": {},
   "outputs": [],
   "source": [
    "churn_brand.drop(columns = ['HANDSET_USED_BRAND'],inplace= True)"
   ]
  },
  {
   "cell_type": "markdown",
   "metadata": {},
   "source": [
    "# Visvualsing Data"
   ]
  },
  {
   "cell_type": "code",
   "execution_count": 26,
   "metadata": {},
   "outputs": [],
   "source": [
    "import seaborn as sns"
   ]
  },
  {
   "cell_type": "code",
   "execution_count": 27,
   "metadata": {},
   "outputs": [
    {
     "data": {
      "text/plain": [
       "Index(['ACCOUNT_TENURE', 'ACCT_CNT_SERVICES', 'AGE', 'CFU', 'SERVICE_TENURE',\n",
       "       'PLAN_ACCESS_FEE', 'BYO_PLAN_STATUS', 'PLAN_TENURE',\n",
       "       'MONTHS_OF_CONTRACT_REMAINING', 'LAST_FX_CONTRACT_DURATION',\n",
       "       'CONTRACT_STATUS', 'PREV_CONTRACT_DURATION', 'HANDSET_USED_BRAND',\n",
       "       'CHURN_IND', 'MONTHLY_SPEND', 'COUNTRY_METRO_REGION', 'BRAND_0',\n",
       "       'BRAND_1', 'BRAND_2', 'BRAND_3', 'BRAND_4', 'BRAND_5'],\n",
       "      dtype='object')"
      ]
     },
     "execution_count": 27,
     "metadata": {},
     "output_type": "execute_result"
    }
   ],
   "source": [
    "churn_brand.columns"
   ]
  },
  {
   "cell_type": "code",
   "execution_count": 141,
   "metadata": {},
   "outputs": [
    {
     "data": {
      "text/plain": [
       "<seaborn.axisgrid.PairGrid at 0x297b9c82b80>"
      ]
     },
     "execution_count": 141,
     "metadata": {},
     "output_type": "execute_result"
    },
    {
     "data": {
      "image/png": "[encoded data removed]",
      "text/plain": [
       "<Figure size 607.25x540 with 12 Axes>"
      ]
     },
     "metadata": {
      "needs_background": "light"
     },
     "output_type": "display_data"
    }
   ],
   "source": [
    "sns.pairplot(churn_brand[['SERVICE_TENURE','MONTHLY_SPEND','MONTHS_OF_CONTRACT_REMAINING',\n",
    "       'CHURN_IND']], hue = 'CHURN_IND' )"
   ]
  },
  {
   "cell_type": "markdown",
   "metadata": {},
   "source": [
    "# Scaling Data by Normalization"
   ]
  },
  {
   "cell_type": "markdown",
   "metadata": {},
   "source": [
    "This brings the values in the range of 0 to 1. It does not impact data which are already in that range"
   ]
  },
  {
   "cell_type": "code",
   "execution_count": 31,
   "metadata": {},
   "outputs": [],
   "source": [
    "from sklearn.preprocessing import MinMaxScaler"
   ]
  },
  {
   "cell_type": "code",
   "execution_count": 32,
   "metadata": {},
   "outputs": [],
   "source": [
    "min_max_scaler = MinMaxScaler()"
   ]
  },
  {
   "cell_type": "code",
   "execution_count": 37,
   "metadata": {},
   "outputs": [
    {
     "data": {
      "text/html": [
       "<div>\n",
       "<style scoped>\n",
       "    .dataframe tbody tr th:only-of-type {\n",
       "        vertical-align: middle;\n",
       "    }\n",
       "\n",
       "    .dataframe tbody tr th {\n",
       "        vertical-align: top;\n",
       "    }\n",
       "\n",
       "    .dataframe thead th {\n",
       "        text-align: right;\n",
       "    }\n",
       "</style>\n",
       "<table border=\"1\" class=\"dataframe\">\n",
       "  <thead>\n",
       "    <tr style=\"text-align: right;\">\n",
       "      <th></th>\n",
       "      <th>ACCOUNT_TENURE</th>\n",
       "      <th>ACCT_CNT_SERVICES</th>\n",
       "      <th>AGE</th>\n",
       "      <th>CFU</th>\n",
       "      <th>SERVICE_TENURE</th>\n",
       "      <th>PLAN_ACCESS_FEE</th>\n",
       "      <th>BYO_PLAN_STATUS</th>\n",
       "      <th>PLAN_TENURE</th>\n",
       "      <th>MONTHS_OF_CONTRACT_REMAINING</th>\n",
       "      <th>LAST_FX_CONTRACT_DURATION</th>\n",
       "      <th>...</th>\n",
       "      <th>PREV_CONTRACT_DURATION</th>\n",
       "      <th>CHURN_IND</th>\n",
       "      <th>MONTHLY_SPEND</th>\n",
       "      <th>COUNTRY_METRO_REGION</th>\n",
       "      <th>BRAND_0</th>\n",
       "      <th>BRAND_1</th>\n",
       "      <th>BRAND_2</th>\n",
       "      <th>BRAND_3</th>\n",
       "      <th>BRAND_4</th>\n",
       "      <th>BRAND_5</th>\n",
       "    </tr>\n",
       "  </thead>\n",
       "  <tbody>\n",
       "    <tr>\n",
       "      <th>1</th>\n",
       "      <td>46.0</td>\n",
       "      <td>1.0</td>\n",
       "      <td>30.0</td>\n",
       "      <td>0</td>\n",
       "      <td>46.0</td>\n",
       "      <td>54.54</td>\n",
       "      <td>1.0</td>\n",
       "      <td>15.0</td>\n",
       "      <td>0.0</td>\n",
       "      <td>24.0</td>\n",
       "      <td>...</td>\n",
       "      <td>24.0</td>\n",
       "      <td>1.0</td>\n",
       "      <td>61.40</td>\n",
       "      <td>0</td>\n",
       "      <td>1.0</td>\n",
       "      <td>0.0</td>\n",
       "      <td>0.0</td>\n",
       "      <td>0.0</td>\n",
       "      <td>0.0</td>\n",
       "      <td>0.0</td>\n",
       "    </tr>\n",
       "    <tr>\n",
       "      <th>2</th>\n",
       "      <td>60.0</td>\n",
       "      <td>3.0</td>\n",
       "      <td>55.0</td>\n",
       "      <td>0</td>\n",
       "      <td>59.0</td>\n",
       "      <td>54.54</td>\n",
       "      <td>1.0</td>\n",
       "      <td>5.0</td>\n",
       "      <td>0.0</td>\n",
       "      <td>24.0</td>\n",
       "      <td>...</td>\n",
       "      <td>24.0</td>\n",
       "      <td>1.0</td>\n",
       "      <td>54.54</td>\n",
       "      <td>1</td>\n",
       "      <td>1.0</td>\n",
       "      <td>0.0</td>\n",
       "      <td>0.0</td>\n",
       "      <td>0.0</td>\n",
       "      <td>0.0</td>\n",
       "      <td>0.0</td>\n",
       "    </tr>\n",
       "    <tr>\n",
       "      <th>3</th>\n",
       "      <td>65.0</td>\n",
       "      <td>1.0</td>\n",
       "      <td>29.0</td>\n",
       "      <td>0</td>\n",
       "      <td>65.0</td>\n",
       "      <td>40.90</td>\n",
       "      <td>0.0</td>\n",
       "      <td>15.0</td>\n",
       "      <td>0.0</td>\n",
       "      <td>12.0</td>\n",
       "      <td>...</td>\n",
       "      <td>12.0</td>\n",
       "      <td>1.0</td>\n",
       "      <td>2.50</td>\n",
       "      <td>0</td>\n",
       "      <td>1.0</td>\n",
       "      <td>0.0</td>\n",
       "      <td>0.0</td>\n",
       "      <td>0.0</td>\n",
       "      <td>0.0</td>\n",
       "      <td>0.0</td>\n",
       "    </tr>\n",
       "    <tr>\n",
       "      <th>4</th>\n",
       "      <td>31.0</td>\n",
       "      <td>1.0</td>\n",
       "      <td>51.0</td>\n",
       "      <td>0</td>\n",
       "      <td>31.0</td>\n",
       "      <td>31.81</td>\n",
       "      <td>1.0</td>\n",
       "      <td>31.0</td>\n",
       "      <td>0.0</td>\n",
       "      <td>24.0</td>\n",
       "      <td>...</td>\n",
       "      <td>24.0</td>\n",
       "      <td>1.0</td>\n",
       "      <td>6.48</td>\n",
       "      <td>0</td>\n",
       "      <td>1.0</td>\n",
       "      <td>0.0</td>\n",
       "      <td>0.0</td>\n",
       "      <td>0.0</td>\n",
       "      <td>0.0</td>\n",
       "      <td>0.0</td>\n",
       "    </tr>\n",
       "    <tr>\n",
       "      <th>5</th>\n",
       "      <td>95.0</td>\n",
       "      <td>1.0</td>\n",
       "      <td>31.0</td>\n",
       "      <td>0</td>\n",
       "      <td>95.0</td>\n",
       "      <td>54.54</td>\n",
       "      <td>1.0</td>\n",
       "      <td>0.0</td>\n",
       "      <td>0.0</td>\n",
       "      <td>24.0</td>\n",
       "      <td>...</td>\n",
       "      <td>24.0</td>\n",
       "      <td>1.0</td>\n",
       "      <td>100.22</td>\n",
       "      <td>1</td>\n",
       "      <td>1.0</td>\n",
       "      <td>0.0</td>\n",
       "      <td>0.0</td>\n",
       "      <td>0.0</td>\n",
       "      <td>0.0</td>\n",
       "      <td>0.0</td>\n",
       "    </tr>\n",
       "    <tr>\n",
       "      <th>...</th>\n",
       "      <td>...</td>\n",
       "      <td>...</td>\n",
       "      <td>...</td>\n",
       "      <td>...</td>\n",
       "      <td>...</td>\n",
       "      <td>...</td>\n",
       "      <td>...</td>\n",
       "      <td>...</td>\n",
       "      <td>...</td>\n",
       "      <td>...</td>\n",
       "      <td>...</td>\n",
       "      <td>...</td>\n",
       "      <td>...</td>\n",
       "      <td>...</td>\n",
       "      <td>...</td>\n",
       "      <td>...</td>\n",
       "      <td>...</td>\n",
       "      <td>...</td>\n",
       "      <td>...</td>\n",
       "      <td>...</td>\n",
       "      <td>...</td>\n",
       "    </tr>\n",
       "    <tr>\n",
       "      <th>46201</th>\n",
       "      <td>46.0</td>\n",
       "      <td>4.0</td>\n",
       "      <td>51.0</td>\n",
       "      <td>0</td>\n",
       "      <td>46.0</td>\n",
       "      <td>8.18</td>\n",
       "      <td>1.0</td>\n",
       "      <td>5.0</td>\n",
       "      <td>0.0</td>\n",
       "      <td>12.0</td>\n",
       "      <td>...</td>\n",
       "      <td>12.0</td>\n",
       "      <td>0.0</td>\n",
       "      <td>8.18</td>\n",
       "      <td>0</td>\n",
       "      <td>0.0</td>\n",
       "      <td>0.0</td>\n",
       "      <td>0.0</td>\n",
       "      <td>1.0</td>\n",
       "      <td>0.0</td>\n",
       "      <td>0.0</td>\n",
       "    </tr>\n",
       "    <tr>\n",
       "      <th>46202</th>\n",
       "      <td>10.0</td>\n",
       "      <td>1.0</td>\n",
       "      <td>61.0</td>\n",
       "      <td>0</td>\n",
       "      <td>9.0</td>\n",
       "      <td>27.27</td>\n",
       "      <td>0.0</td>\n",
       "      <td>7.0</td>\n",
       "      <td>0.0</td>\n",
       "      <td>0.0</td>\n",
       "      <td>...</td>\n",
       "      <td>0.0</td>\n",
       "      <td>0.0</td>\n",
       "      <td>27.27</td>\n",
       "      <td>0</td>\n",
       "      <td>0.0</td>\n",
       "      <td>0.0</td>\n",
       "      <td>0.0</td>\n",
       "      <td>0.0</td>\n",
       "      <td>0.0</td>\n",
       "      <td>1.0</td>\n",
       "    </tr>\n",
       "    <tr>\n",
       "      <th>46203</th>\n",
       "      <td>2.0</td>\n",
       "      <td>1.0</td>\n",
       "      <td>53.0</td>\n",
       "      <td>0</td>\n",
       "      <td>2.0</td>\n",
       "      <td>54.54</td>\n",
       "      <td>1.0</td>\n",
       "      <td>2.0</td>\n",
       "      <td>0.0</td>\n",
       "      <td>24.0</td>\n",
       "      <td>...</td>\n",
       "      <td>24.0</td>\n",
       "      <td>1.0</td>\n",
       "      <td>54.99</td>\n",
       "      <td>1</td>\n",
       "      <td>1.0</td>\n",
       "      <td>0.0</td>\n",
       "      <td>0.0</td>\n",
       "      <td>0.0</td>\n",
       "      <td>0.0</td>\n",
       "      <td>0.0</td>\n",
       "    </tr>\n",
       "    <tr>\n",
       "      <th>46204</th>\n",
       "      <td>47.0</td>\n",
       "      <td>1.0</td>\n",
       "      <td>22.0</td>\n",
       "      <td>0</td>\n",
       "      <td>47.0</td>\n",
       "      <td>72.72</td>\n",
       "      <td>1.0</td>\n",
       "      <td>7.0</td>\n",
       "      <td>17.0</td>\n",
       "      <td>24.0</td>\n",
       "      <td>...</td>\n",
       "      <td>24.0</td>\n",
       "      <td>0.0</td>\n",
       "      <td>72.72</td>\n",
       "      <td>0</td>\n",
       "      <td>1.0</td>\n",
       "      <td>0.0</td>\n",
       "      <td>0.0</td>\n",
       "      <td>0.0</td>\n",
       "      <td>0.0</td>\n",
       "      <td>0.0</td>\n",
       "    </tr>\n",
       "    <tr>\n",
       "      <th>46205</th>\n",
       "      <td>94.0</td>\n",
       "      <td>1.0</td>\n",
       "      <td>40.0</td>\n",
       "      <td>0</td>\n",
       "      <td>182.0</td>\n",
       "      <td>17.27</td>\n",
       "      <td>1.0</td>\n",
       "      <td>4.0</td>\n",
       "      <td>0.0</td>\n",
       "      <td>24.0</td>\n",
       "      <td>...</td>\n",
       "      <td>24.0</td>\n",
       "      <td>0.0</td>\n",
       "      <td>17.27</td>\n",
       "      <td>1</td>\n",
       "      <td>1.0</td>\n",
       "      <td>0.0</td>\n",
       "      <td>0.0</td>\n",
       "      <td>0.0</td>\n",
       "      <td>0.0</td>\n",
       "      <td>0.0</td>\n",
       "    </tr>\n",
       "  </tbody>\n",
       "</table>\n",
       "<p>46128 rows × 21 columns</p>\n",
       "</div>"
      ],
      "text/plain": [
       "       ACCOUNT_TENURE  ACCT_CNT_SERVICES   AGE  CFU  SERVICE_TENURE  \\\n",
       "1                46.0                1.0  30.0    0            46.0   \n",
       "2                60.0                3.0  55.0    0            59.0   \n",
       "3                65.0                1.0  29.0    0            65.0   \n",
       "4                31.0                1.0  51.0    0            31.0   \n",
       "5                95.0                1.0  31.0    0            95.0   \n",
       "...               ...                ...   ...  ...             ...   \n",
       "46201            46.0                4.0  51.0    0            46.0   \n",
       "46202            10.0                1.0  61.0    0             9.0   \n",
       "46203             2.0                1.0  53.0    0             2.0   \n",
       "46204            47.0                1.0  22.0    0            47.0   \n",
       "46205            94.0                1.0  40.0    0           182.0   \n",
       "\n",
       "       PLAN_ACCESS_FEE  BYO_PLAN_STATUS  PLAN_TENURE  \\\n",
       "1                54.54              1.0         15.0   \n",
       "2                54.54              1.0          5.0   \n",
       "3                40.90              0.0         15.0   \n",
       "4                31.81              1.0         31.0   \n",
       "5                54.54              1.0          0.0   \n",
       "...                ...              ...          ...   \n",
       "46201             8.18              1.0          5.0   \n",
       "46202            27.27              0.0          7.0   \n",
       "46203            54.54              1.0          2.0   \n",
       "46204            72.72              1.0          7.0   \n",
       "46205            17.27              1.0          4.0   \n",
       "\n",
       "       MONTHS_OF_CONTRACT_REMAINING  LAST_FX_CONTRACT_DURATION  ...  \\\n",
       "1                               0.0                       24.0  ...   \n",
       "2                               0.0                       24.0  ...   \n",
       "3                               0.0                       12.0  ...   \n",
       "4                               0.0                       24.0  ...   \n",
       "5                               0.0                       24.0  ...   \n",
       "...                             ...                        ...  ...   \n",
       "46201                           0.0                       12.0  ...   \n",
       "46202                           0.0                        0.0  ...   \n",
       "46203                           0.0                       24.0  ...   \n",
       "46204                          17.0                       24.0  ...   \n",
       "46205                           0.0                       24.0  ...   \n",
       "\n",
       "       PREV_CONTRACT_DURATION  CHURN_IND  MONTHLY_SPEND  COUNTRY_METRO_REGION  \\\n",
       "1                        24.0        1.0          61.40                     0   \n",
       "2                        24.0        1.0          54.54                     1   \n",
       "3                        12.0        1.0           2.50                     0   \n",
       "4                        24.0        1.0           6.48                     0   \n",
       "5                        24.0        1.0         100.22                     1   \n",
       "...                       ...        ...            ...                   ...   \n",
       "46201                    12.0        0.0           8.18                     0   \n",
       "46202                     0.0        0.0          27.27                     0   \n",
       "46203                    24.0        1.0          54.99                     1   \n",
       "46204                    24.0        0.0          72.72                     0   \n",
       "46205                    24.0        0.0          17.27                     1   \n",
       "\n",
       "       BRAND_0  BRAND_1  BRAND_2  BRAND_3  BRAND_4  BRAND_5  \n",
       "1          1.0      0.0      0.0      0.0      0.0      0.0  \n",
       "2          1.0      0.0      0.0      0.0      0.0      0.0  \n",
       "3          1.0      0.0      0.0      0.0      0.0      0.0  \n",
       "4          1.0      0.0      0.0      0.0      0.0      0.0  \n",
       "5          1.0      0.0      0.0      0.0      0.0      0.0  \n",
       "...        ...      ...      ...      ...      ...      ...  \n",
       "46201      0.0      0.0      0.0      1.0      0.0      0.0  \n",
       "46202      0.0      0.0      0.0      0.0      0.0      1.0  \n",
       "46203      1.0      0.0      0.0      0.0      0.0      0.0  \n",
       "46204      1.0      0.0      0.0      0.0      0.0      0.0  \n",
       "46205      1.0      0.0      0.0      0.0      0.0      0.0  \n",
       "\n",
       "[46128 rows x 21 columns]"
      ]
     },
     "execution_count": 37,
     "metadata": {},
     "output_type": "execute_result"
    }
   ],
   "source": [
    "churn_brand"
   ]
  },
  {
   "cell_type": "code",
   "execution_count": 36,
   "metadata": {},
   "outputs": [],
   "source": [
    "churn_brand_scaled= pd.DataFrame(min_max_scaler.fit_transform(churn_brand),columns = churn_brand.columns )"
   ]
  },
  {
   "cell_type": "code",
   "execution_count": 39,
   "metadata": {},
   "outputs": [
    {
     "data": {
      "text/html": [
       "<div>\n",
       "<style scoped>\n",
       "    .dataframe tbody tr th:only-of-type {\n",
       "        vertical-align: middle;\n",
       "    }\n",
       "\n",
       "    .dataframe tbody tr th {\n",
       "        vertical-align: top;\n",
       "    }\n",
       "\n",
       "    .dataframe thead th {\n",
       "        text-align: right;\n",
       "    }\n",
       "</style>\n",
       "<table border=\"1\" class=\"dataframe\">\n",
       "  <thead>\n",
       "    <tr style=\"text-align: right;\">\n",
       "      <th></th>\n",
       "      <th>ACCOUNT_TENURE</th>\n",
       "      <th>ACCT_CNT_SERVICES</th>\n",
       "      <th>AGE</th>\n",
       "      <th>CFU</th>\n",
       "      <th>SERVICE_TENURE</th>\n",
       "      <th>PLAN_ACCESS_FEE</th>\n",
       "      <th>BYO_PLAN_STATUS</th>\n",
       "      <th>PLAN_TENURE</th>\n",
       "      <th>MONTHS_OF_CONTRACT_REMAINING</th>\n",
       "      <th>LAST_FX_CONTRACT_DURATION</th>\n",
       "      <th>...</th>\n",
       "      <th>PREV_CONTRACT_DURATION</th>\n",
       "      <th>CHURN_IND</th>\n",
       "      <th>MONTHLY_SPEND</th>\n",
       "      <th>COUNTRY_METRO_REGION</th>\n",
       "      <th>BRAND_0</th>\n",
       "      <th>BRAND_1</th>\n",
       "      <th>BRAND_2</th>\n",
       "      <th>BRAND_3</th>\n",
       "      <th>BRAND_4</th>\n",
       "      <th>BRAND_5</th>\n",
       "    </tr>\n",
       "  </thead>\n",
       "  <tbody>\n",
       "    <tr>\n",
       "      <th>0</th>\n",
       "      <td>0.383333</td>\n",
       "      <td>0.000000</td>\n",
       "      <td>0.283333</td>\n",
       "      <td>0.0</td>\n",
       "      <td>0.177606</td>\n",
       "      <td>0.204807</td>\n",
       "      <td>1.0</td>\n",
       "      <td>0.102041</td>\n",
       "      <td>0.000000</td>\n",
       "      <td>0.666667</td>\n",
       "      <td>...</td>\n",
       "      <td>0.666667</td>\n",
       "      <td>1.0</td>\n",
       "      <td>0.030730</td>\n",
       "      <td>0.0</td>\n",
       "      <td>1.0</td>\n",
       "      <td>0.0</td>\n",
       "      <td>0.0</td>\n",
       "      <td>0.0</td>\n",
       "      <td>0.0</td>\n",
       "      <td>0.0</td>\n",
       "    </tr>\n",
       "    <tr>\n",
       "      <th>1</th>\n",
       "      <td>0.500000</td>\n",
       "      <td>0.666667</td>\n",
       "      <td>0.491667</td>\n",
       "      <td>0.0</td>\n",
       "      <td>0.227799</td>\n",
       "      <td>0.204807</td>\n",
       "      <td>1.0</td>\n",
       "      <td>0.034014</td>\n",
       "      <td>0.000000</td>\n",
       "      <td>0.666667</td>\n",
       "      <td>...</td>\n",
       "      <td>0.666667</td>\n",
       "      <td>1.0</td>\n",
       "      <td>0.027238</td>\n",
       "      <td>1.0</td>\n",
       "      <td>1.0</td>\n",
       "      <td>0.0</td>\n",
       "      <td>0.0</td>\n",
       "      <td>0.0</td>\n",
       "      <td>0.0</td>\n",
       "      <td>0.0</td>\n",
       "    </tr>\n",
       "    <tr>\n",
       "      <th>2</th>\n",
       "      <td>0.541667</td>\n",
       "      <td>0.000000</td>\n",
       "      <td>0.275000</td>\n",
       "      <td>0.0</td>\n",
       "      <td>0.250965</td>\n",
       "      <td>0.144549</td>\n",
       "      <td>0.0</td>\n",
       "      <td>0.102041</td>\n",
       "      <td>0.000000</td>\n",
       "      <td>0.333333</td>\n",
       "      <td>...</td>\n",
       "      <td>0.333333</td>\n",
       "      <td>1.0</td>\n",
       "      <td>0.000753</td>\n",
       "      <td>0.0</td>\n",
       "      <td>1.0</td>\n",
       "      <td>0.0</td>\n",
       "      <td>0.0</td>\n",
       "      <td>0.0</td>\n",
       "      <td>0.0</td>\n",
       "      <td>0.0</td>\n",
       "    </tr>\n",
       "    <tr>\n",
       "      <th>3</th>\n",
       "      <td>0.258333</td>\n",
       "      <td>0.000000</td>\n",
       "      <td>0.458333</td>\n",
       "      <td>0.0</td>\n",
       "      <td>0.119691</td>\n",
       "      <td>0.104391</td>\n",
       "      <td>1.0</td>\n",
       "      <td>0.210884</td>\n",
       "      <td>0.000000</td>\n",
       "      <td>0.666667</td>\n",
       "      <td>...</td>\n",
       "      <td>0.666667</td>\n",
       "      <td>1.0</td>\n",
       "      <td>0.002779</td>\n",
       "      <td>0.0</td>\n",
       "      <td>1.0</td>\n",
       "      <td>0.0</td>\n",
       "      <td>0.0</td>\n",
       "      <td>0.0</td>\n",
       "      <td>0.0</td>\n",
       "      <td>0.0</td>\n",
       "    </tr>\n",
       "    <tr>\n",
       "      <th>4</th>\n",
       "      <td>0.791667</td>\n",
       "      <td>0.000000</td>\n",
       "      <td>0.291667</td>\n",
       "      <td>0.0</td>\n",
       "      <td>0.366795</td>\n",
       "      <td>0.204807</td>\n",
       "      <td>1.0</td>\n",
       "      <td>0.000000</td>\n",
       "      <td>0.000000</td>\n",
       "      <td>0.666667</td>\n",
       "      <td>...</td>\n",
       "      <td>0.666667</td>\n",
       "      <td>1.0</td>\n",
       "      <td>0.050487</td>\n",
       "      <td>1.0</td>\n",
       "      <td>1.0</td>\n",
       "      <td>0.0</td>\n",
       "      <td>0.0</td>\n",
       "      <td>0.0</td>\n",
       "      <td>0.0</td>\n",
       "      <td>0.0</td>\n",
       "    </tr>\n",
       "    <tr>\n",
       "      <th>...</th>\n",
       "      <td>...</td>\n",
       "      <td>...</td>\n",
       "      <td>...</td>\n",
       "      <td>...</td>\n",
       "      <td>...</td>\n",
       "      <td>...</td>\n",
       "      <td>...</td>\n",
       "      <td>...</td>\n",
       "      <td>...</td>\n",
       "      <td>...</td>\n",
       "      <td>...</td>\n",
       "      <td>...</td>\n",
       "      <td>...</td>\n",
       "      <td>...</td>\n",
       "      <td>...</td>\n",
       "      <td>...</td>\n",
       "      <td>...</td>\n",
       "      <td>...</td>\n",
       "      <td>...</td>\n",
       "      <td>...</td>\n",
       "      <td>...</td>\n",
       "    </tr>\n",
       "    <tr>\n",
       "      <th>46123</th>\n",
       "      <td>0.383333</td>\n",
       "      <td>1.000000</td>\n",
       "      <td>0.458333</td>\n",
       "      <td>0.0</td>\n",
       "      <td>0.177606</td>\n",
       "      <td>0.000000</td>\n",
       "      <td>1.0</td>\n",
       "      <td>0.034014</td>\n",
       "      <td>0.000000</td>\n",
       "      <td>0.333333</td>\n",
       "      <td>...</td>\n",
       "      <td>0.333333</td>\n",
       "      <td>0.0</td>\n",
       "      <td>0.003644</td>\n",
       "      <td>0.0</td>\n",
       "      <td>0.0</td>\n",
       "      <td>0.0</td>\n",
       "      <td>0.0</td>\n",
       "      <td>1.0</td>\n",
       "      <td>0.0</td>\n",
       "      <td>0.0</td>\n",
       "    </tr>\n",
       "    <tr>\n",
       "      <th>46124</th>\n",
       "      <td>0.083333</td>\n",
       "      <td>0.000000</td>\n",
       "      <td>0.541667</td>\n",
       "      <td>0.0</td>\n",
       "      <td>0.034749</td>\n",
       "      <td>0.084335</td>\n",
       "      <td>0.0</td>\n",
       "      <td>0.047619</td>\n",
       "      <td>0.000000</td>\n",
       "      <td>0.000000</td>\n",
       "      <td>...</td>\n",
       "      <td>0.000000</td>\n",
       "      <td>0.0</td>\n",
       "      <td>0.013360</td>\n",
       "      <td>0.0</td>\n",
       "      <td>0.0</td>\n",
       "      <td>0.0</td>\n",
       "      <td>0.0</td>\n",
       "      <td>0.0</td>\n",
       "      <td>0.0</td>\n",
       "      <td>1.0</td>\n",
       "    </tr>\n",
       "    <tr>\n",
       "      <th>46125</th>\n",
       "      <td>0.016667</td>\n",
       "      <td>0.000000</td>\n",
       "      <td>0.475000</td>\n",
       "      <td>0.0</td>\n",
       "      <td>0.007722</td>\n",
       "      <td>0.204807</td>\n",
       "      <td>1.0</td>\n",
       "      <td>0.013605</td>\n",
       "      <td>0.000000</td>\n",
       "      <td>0.666667</td>\n",
       "      <td>...</td>\n",
       "      <td>0.666667</td>\n",
       "      <td>1.0</td>\n",
       "      <td>0.027467</td>\n",
       "      <td>1.0</td>\n",
       "      <td>1.0</td>\n",
       "      <td>0.0</td>\n",
       "      <td>0.0</td>\n",
       "      <td>0.0</td>\n",
       "      <td>0.0</td>\n",
       "      <td>0.0</td>\n",
       "    </tr>\n",
       "    <tr>\n",
       "      <th>46126</th>\n",
       "      <td>0.391667</td>\n",
       "      <td>0.000000</td>\n",
       "      <td>0.216667</td>\n",
       "      <td>0.0</td>\n",
       "      <td>0.181467</td>\n",
       "      <td>0.285121</td>\n",
       "      <td>1.0</td>\n",
       "      <td>0.047619</td>\n",
       "      <td>0.708333</td>\n",
       "      <td>0.666667</td>\n",
       "      <td>...</td>\n",
       "      <td>0.666667</td>\n",
       "      <td>0.0</td>\n",
       "      <td>0.036491</td>\n",
       "      <td>0.0</td>\n",
       "      <td>1.0</td>\n",
       "      <td>0.0</td>\n",
       "      <td>0.0</td>\n",
       "      <td>0.0</td>\n",
       "      <td>0.0</td>\n",
       "      <td>0.0</td>\n",
       "    </tr>\n",
       "    <tr>\n",
       "      <th>46127</th>\n",
       "      <td>0.783333</td>\n",
       "      <td>0.000000</td>\n",
       "      <td>0.366667</td>\n",
       "      <td>0.0</td>\n",
       "      <td>0.702703</td>\n",
       "      <td>0.040157</td>\n",
       "      <td>1.0</td>\n",
       "      <td>0.027211</td>\n",
       "      <td>0.000000</td>\n",
       "      <td>0.666667</td>\n",
       "      <td>...</td>\n",
       "      <td>0.666667</td>\n",
       "      <td>0.0</td>\n",
       "      <td>0.008270</td>\n",
       "      <td>1.0</td>\n",
       "      <td>1.0</td>\n",
       "      <td>0.0</td>\n",
       "      <td>0.0</td>\n",
       "      <td>0.0</td>\n",
       "      <td>0.0</td>\n",
       "      <td>0.0</td>\n",
       "    </tr>\n",
       "  </tbody>\n",
       "</table>\n",
       "<p>46128 rows × 21 columns</p>\n",
       "</div>"
      ],
      "text/plain": [
       "       ACCOUNT_TENURE  ACCT_CNT_SERVICES       AGE  CFU  SERVICE_TENURE  \\\n",
       "0            0.383333           0.000000  0.283333  0.0        0.177606   \n",
       "1            0.500000           0.666667  0.491667  0.0        0.227799   \n",
       "2            0.541667           0.000000  0.275000  0.0        0.250965   \n",
       "3            0.258333           0.000000  0.458333  0.0        0.119691   \n",
       "4            0.791667           0.000000  0.291667  0.0        0.366795   \n",
       "...               ...                ...       ...  ...             ...   \n",
       "46123        0.383333           1.000000  0.458333  0.0        0.177606   \n",
       "46124        0.083333           0.000000  0.541667  0.0        0.034749   \n",
       "46125        0.016667           0.000000  0.475000  0.0        0.007722   \n",
       "46126        0.391667           0.000000  0.216667  0.0        0.181467   \n",
       "46127        0.783333           0.000000  0.366667  0.0        0.702703   \n",
       "\n",
       "       PLAN_ACCESS_FEE  BYO_PLAN_STATUS  PLAN_TENURE  \\\n",
       "0             0.204807              1.0     0.102041   \n",
       "1             0.204807              1.0     0.034014   \n",
       "2             0.144549              0.0     0.102041   \n",
       "3             0.104391              1.0     0.210884   \n",
       "4             0.204807              1.0     0.000000   \n",
       "...                ...              ...          ...   \n",
       "46123         0.000000              1.0     0.034014   \n",
       "46124         0.084335              0.0     0.047619   \n",
       "46125         0.204807              1.0     0.013605   \n",
       "46126         0.285121              1.0     0.047619   \n",
       "46127         0.040157              1.0     0.027211   \n",
       "\n",
       "       MONTHS_OF_CONTRACT_REMAINING  LAST_FX_CONTRACT_DURATION  ...  \\\n",
       "0                          0.000000                   0.666667  ...   \n",
       "1                          0.000000                   0.666667  ...   \n",
       "2                          0.000000                   0.333333  ...   \n",
       "3                          0.000000                   0.666667  ...   \n",
       "4                          0.000000                   0.666667  ...   \n",
       "...                             ...                        ...  ...   \n",
       "46123                      0.000000                   0.333333  ...   \n",
       "46124                      0.000000                   0.000000  ...   \n",
       "46125                      0.000000                   0.666667  ...   \n",
       "46126                      0.708333                   0.666667  ...   \n",
       "46127                      0.000000                   0.666667  ...   \n",
       "\n",
       "       PREV_CONTRACT_DURATION  CHURN_IND  MONTHLY_SPEND  COUNTRY_METRO_REGION  \\\n",
       "0                    0.666667        1.0       0.030730                   0.0   \n",
       "1                    0.666667        1.0       0.027238                   1.0   \n",
       "2                    0.333333        1.0       0.000753                   0.0   \n",
       "3                    0.666667        1.0       0.002779                   0.0   \n",
       "4                    0.666667        1.0       0.050487                   1.0   \n",
       "...                       ...        ...            ...                   ...   \n",
       "46123                0.333333        0.0       0.003644                   0.0   \n",
       "46124                0.000000        0.0       0.013360                   0.0   \n",
       "46125                0.666667        1.0       0.027467                   1.0   \n",
       "46126                0.666667        0.0       0.036491                   0.0   \n",
       "46127                0.666667        0.0       0.008270                   1.0   \n",
       "\n",
       "       BRAND_0  BRAND_1  BRAND_2  BRAND_3  BRAND_4  BRAND_5  \n",
       "0          1.0      0.0      0.0      0.0      0.0      0.0  \n",
       "1          1.0      0.0      0.0      0.0      0.0      0.0  \n",
       "2          1.0      0.0      0.0      0.0      0.0      0.0  \n",
       "3          1.0      0.0      0.0      0.0      0.0      0.0  \n",
       "4          1.0      0.0      0.0      0.0      0.0      0.0  \n",
       "...        ...      ...      ...      ...      ...      ...  \n",
       "46123      0.0      0.0      0.0      1.0      0.0      0.0  \n",
       "46124      0.0      0.0      0.0      0.0      0.0      1.0  \n",
       "46125      1.0      0.0      0.0      0.0      0.0      0.0  \n",
       "46126      1.0      0.0      0.0      0.0      0.0      0.0  \n",
       "46127      1.0      0.0      0.0      0.0      0.0      0.0  \n",
       "\n",
       "[46128 rows x 21 columns]"
      ]
     },
     "execution_count": 39,
     "metadata": {},
     "output_type": "execute_result"
    }
   ],
   "source": [
    "churn_brand_scaled"
   ]
  },
  {
   "cell_type": "markdown",
   "metadata": {},
   "source": [
    "# Removing Outliers"
   ]
  },
  {
   "cell_type": "code",
   "execution_count": 40,
   "metadata": {},
   "outputs": [
    {
     "data": {
      "text/plain": [
       "ACCOUNT_TENURE                  0.720729\n",
       "ACCT_CNT_SERVICES               1.504936\n",
       "AGE                             0.336117\n",
       "CFU                             2.354182\n",
       "SERVICE_TENURE                  1.031319\n",
       "PLAN_ACCESS_FEE                 0.482963\n",
       "BYO_PLAN_STATUS                 0.550105\n",
       "PLAN_TENURE                     0.900541\n",
       "MONTHS_OF_CONTRACT_REMAINING    1.012742\n",
       "LAST_FX_CONTRACT_DURATION       0.394707\n",
       "CONTRACT_STATUS                 0.466839\n",
       "PREV_CONTRACT_DURATION          0.719941\n",
       "CHURN_IND                       1.263682\n",
       "MONTHLY_SPEND                   0.989818\n",
       "COUNTRY_METRO_REGION            0.672473\n",
       "BRAND_0                         0.928748\n",
       "BRAND_1                         4.148637\n",
       "BRAND_2                         5.805991\n",
       "BRAND_3                         4.976984\n",
       "BRAND_4                         1.561599\n",
       "BRAND_5                         4.370327\n",
       "dtype: float64"
      ]
     },
     "execution_count": 40,
     "metadata": {},
     "output_type": "execute_result"
    }
   ],
   "source": [
    "churn_brand_scaled.std()/churn_brand_scaled.mean()"
   ]
  },
  {
   "cell_type": "markdown",
   "metadata": {},
   "source": [
    "We will not consider the features which have converted into labels or one hot encoding. But in rest of them we can remove outleirs "
   ]
  },
  {
   "cell_type": "code",
   "execution_count": 42,
   "metadata": {},
   "outputs": [],
   "source": [
    "from scipy import stats"
   ]
  },
  {
   "cell_type": "code",
   "execution_count": 45,
   "metadata": {},
   "outputs": [
    {
     "data": {
      "text/plain": [
       "Index(['ACCOUNT_TENURE', 'ACCT_CNT_SERVICES', 'AGE', 'CFU', 'SERVICE_TENURE',\n",
       "       'PLAN_ACCESS_FEE', 'BYO_PLAN_STATUS', 'PLAN_TENURE',\n",
       "       'MONTHS_OF_CONTRACT_REMAINING', 'LAST_FX_CONTRACT_DURATION',\n",
       "       'CONTRACT_STATUS', 'PREV_CONTRACT_DURATION', 'CHURN_IND',\n",
       "       'MONTHLY_SPEND', 'COUNTRY_METRO_REGION', 'BRAND_0', 'BRAND_1',\n",
       "       'BRAND_2', 'BRAND_3', 'BRAND_4', 'BRAND_5'],\n",
       "      dtype='object')"
      ]
     },
     "execution_count": 45,
     "metadata": {},
     "output_type": "execute_result"
    }
   ],
   "source": [
    "churn_brand_scaled.columns"
   ]
  },
  {
   "cell_type": "code",
   "execution_count": 51,
   "metadata": {},
   "outputs": [],
   "source": [
    "churn_zscore = churn_brand_scaled[['ACCOUNT_TENURE', 'ACCT_CNT_SERVICES', 'AGE',  'SERVICE_TENURE',\n",
    "       'PLAN_ACCESS_FEE',  'PLAN_TENURE',\n",
    "       'MONTHS_OF_CONTRACT_REMAINING', 'LAST_FX_CONTRACT_DURATION',\n",
    "        'PREV_CONTRACT_DURATION', \n",
    "       'MONTHLY_SPEND',]]"
   ]
  },
  {
   "cell_type": "code",
   "execution_count": 54,
   "metadata": {},
   "outputs": [
    {
     "data": {
      "text/html": [
       "<div>\n",
       "<style scoped>\n",
       "    .dataframe tbody tr th:only-of-type {\n",
       "        vertical-align: middle;\n",
       "    }\n",
       "\n",
       "    .dataframe tbody tr th {\n",
       "        vertical-align: top;\n",
       "    }\n",
       "\n",
       "    .dataframe thead th {\n",
       "        text-align: right;\n",
       "    }\n",
       "</style>\n",
       "<table border=\"1\" class=\"dataframe\">\n",
       "  <thead>\n",
       "    <tr style=\"text-align: right;\">\n",
       "      <th></th>\n",
       "      <th>ACCOUNT_TENURE</th>\n",
       "      <th>ACCT_CNT_SERVICES</th>\n",
       "      <th>AGE</th>\n",
       "      <th>SERVICE_TENURE</th>\n",
       "      <th>PLAN_ACCESS_FEE</th>\n",
       "      <th>PLAN_TENURE</th>\n",
       "      <th>MONTHS_OF_CONTRACT_REMAINING</th>\n",
       "      <th>LAST_FX_CONTRACT_DURATION</th>\n",
       "      <th>PREV_CONTRACT_DURATION</th>\n",
       "      <th>MONTHLY_SPEND</th>\n",
       "    </tr>\n",
       "  </thead>\n",
       "  <tbody>\n",
       "    <tr>\n",
       "      <th>0</th>\n",
       "      <td>0.383333</td>\n",
       "      <td>0.000000</td>\n",
       "      <td>0.283333</td>\n",
       "      <td>0.177606</td>\n",
       "      <td>0.204807</td>\n",
       "      <td>0.102041</td>\n",
       "      <td>0.000000</td>\n",
       "      <td>0.666667</td>\n",
       "      <td>0.666667</td>\n",
       "      <td>0.030730</td>\n",
       "    </tr>\n",
       "    <tr>\n",
       "      <th>1</th>\n",
       "      <td>0.500000</td>\n",
       "      <td>0.666667</td>\n",
       "      <td>0.491667</td>\n",
       "      <td>0.227799</td>\n",
       "      <td>0.204807</td>\n",
       "      <td>0.034014</td>\n",
       "      <td>0.000000</td>\n",
       "      <td>0.666667</td>\n",
       "      <td>0.666667</td>\n",
       "      <td>0.027238</td>\n",
       "    </tr>\n",
       "    <tr>\n",
       "      <th>2</th>\n",
       "      <td>0.541667</td>\n",
       "      <td>0.000000</td>\n",
       "      <td>0.275000</td>\n",
       "      <td>0.250965</td>\n",
       "      <td>0.144549</td>\n",
       "      <td>0.102041</td>\n",
       "      <td>0.000000</td>\n",
       "      <td>0.333333</td>\n",
       "      <td>0.333333</td>\n",
       "      <td>0.000753</td>\n",
       "    </tr>\n",
       "    <tr>\n",
       "      <th>3</th>\n",
       "      <td>0.258333</td>\n",
       "      <td>0.000000</td>\n",
       "      <td>0.458333</td>\n",
       "      <td>0.119691</td>\n",
       "      <td>0.104391</td>\n",
       "      <td>0.210884</td>\n",
       "      <td>0.000000</td>\n",
       "      <td>0.666667</td>\n",
       "      <td>0.666667</td>\n",
       "      <td>0.002779</td>\n",
       "    </tr>\n",
       "    <tr>\n",
       "      <th>4</th>\n",
       "      <td>0.791667</td>\n",
       "      <td>0.000000</td>\n",
       "      <td>0.291667</td>\n",
       "      <td>0.366795</td>\n",
       "      <td>0.204807</td>\n",
       "      <td>0.000000</td>\n",
       "      <td>0.000000</td>\n",
       "      <td>0.666667</td>\n",
       "      <td>0.666667</td>\n",
       "      <td>0.050487</td>\n",
       "    </tr>\n",
       "    <tr>\n",
       "      <th>...</th>\n",
       "      <td>...</td>\n",
       "      <td>...</td>\n",
       "      <td>...</td>\n",
       "      <td>...</td>\n",
       "      <td>...</td>\n",
       "      <td>...</td>\n",
       "      <td>...</td>\n",
       "      <td>...</td>\n",
       "      <td>...</td>\n",
       "      <td>...</td>\n",
       "    </tr>\n",
       "    <tr>\n",
       "      <th>46123</th>\n",
       "      <td>0.383333</td>\n",
       "      <td>1.000000</td>\n",
       "      <td>0.458333</td>\n",
       "      <td>0.177606</td>\n",
       "      <td>0.000000</td>\n",
       "      <td>0.034014</td>\n",
       "      <td>0.000000</td>\n",
       "      <td>0.333333</td>\n",
       "      <td>0.333333</td>\n",
       "      <td>0.003644</td>\n",
       "    </tr>\n",
       "    <tr>\n",
       "      <th>46124</th>\n",
       "      <td>0.083333</td>\n",
       "      <td>0.000000</td>\n",
       "      <td>0.541667</td>\n",
       "      <td>0.034749</td>\n",
       "      <td>0.084335</td>\n",
       "      <td>0.047619</td>\n",
       "      <td>0.000000</td>\n",
       "      <td>0.000000</td>\n",
       "      <td>0.000000</td>\n",
       "      <td>0.013360</td>\n",
       "    </tr>\n",
       "    <tr>\n",
       "      <th>46125</th>\n",
       "      <td>0.016667</td>\n",
       "      <td>0.000000</td>\n",
       "      <td>0.475000</td>\n",
       "      <td>0.007722</td>\n",
       "      <td>0.204807</td>\n",
       "      <td>0.013605</td>\n",
       "      <td>0.000000</td>\n",
       "      <td>0.666667</td>\n",
       "      <td>0.666667</td>\n",
       "      <td>0.027467</td>\n",
       "    </tr>\n",
       "    <tr>\n",
       "      <th>46126</th>\n",
       "      <td>0.391667</td>\n",
       "      <td>0.000000</td>\n",
       "      <td>0.216667</td>\n",
       "      <td>0.181467</td>\n",
       "      <td>0.285121</td>\n",
       "      <td>0.047619</td>\n",
       "      <td>0.708333</td>\n",
       "      <td>0.666667</td>\n",
       "      <td>0.666667</td>\n",
       "      <td>0.036491</td>\n",
       "    </tr>\n",
       "    <tr>\n",
       "      <th>46127</th>\n",
       "      <td>0.783333</td>\n",
       "      <td>0.000000</td>\n",
       "      <td>0.366667</td>\n",
       "      <td>0.702703</td>\n",
       "      <td>0.040157</td>\n",
       "      <td>0.027211</td>\n",
       "      <td>0.000000</td>\n",
       "      <td>0.666667</td>\n",
       "      <td>0.666667</td>\n",
       "      <td>0.008270</td>\n",
       "    </tr>\n",
       "  </tbody>\n",
       "</table>\n",
       "<p>46128 rows × 10 columns</p>\n",
       "</div>"
      ],
      "text/plain": [
       "       ACCOUNT_TENURE  ACCT_CNT_SERVICES       AGE  SERVICE_TENURE  \\\n",
       "0            0.383333           0.000000  0.283333        0.177606   \n",
       "1            0.500000           0.666667  0.491667        0.227799   \n",
       "2            0.541667           0.000000  0.275000        0.250965   \n",
       "3            0.258333           0.000000  0.458333        0.119691   \n",
       "4            0.791667           0.000000  0.291667        0.366795   \n",
       "...               ...                ...       ...             ...   \n",
       "46123        0.383333           1.000000  0.458333        0.177606   \n",
       "46124        0.083333           0.000000  0.541667        0.034749   \n",
       "46125        0.016667           0.000000  0.475000        0.007722   \n",
       "46126        0.391667           0.000000  0.216667        0.181467   \n",
       "46127        0.783333           0.000000  0.366667        0.702703   \n",
       "\n",
       "       PLAN_ACCESS_FEE  PLAN_TENURE  MONTHS_OF_CONTRACT_REMAINING  \\\n",
       "0             0.204807     0.102041                      0.000000   \n",
       "1             0.204807     0.034014                      0.000000   \n",
       "2             0.144549     0.102041                      0.000000   \n",
       "3             0.104391     0.210884                      0.000000   \n",
       "4             0.204807     0.000000                      0.000000   \n",
       "...                ...          ...                           ...   \n",
       "46123         0.000000     0.034014                      0.000000   \n",
       "46124         0.084335     0.047619                      0.000000   \n",
       "46125         0.204807     0.013605                      0.000000   \n",
       "46126         0.285121     0.047619                      0.708333   \n",
       "46127         0.040157     0.027211                      0.000000   \n",
       "\n",
       "       LAST_FX_CONTRACT_DURATION  PREV_CONTRACT_DURATION  MONTHLY_SPEND  \n",
       "0                       0.666667                0.666667       0.030730  \n",
       "1                       0.666667                0.666667       0.027238  \n",
       "2                       0.333333                0.333333       0.000753  \n",
       "3                       0.666667                0.666667       0.002779  \n",
       "4                       0.666667                0.666667       0.050487  \n",
       "...                          ...                     ...            ...  \n",
       "46123                   0.333333                0.333333       0.003644  \n",
       "46124                   0.000000                0.000000       0.013360  \n",
       "46125                   0.666667                0.666667       0.027467  \n",
       "46126                   0.666667                0.666667       0.036491  \n",
       "46127                   0.666667                0.666667       0.008270  \n",
       "\n",
       "[46128 rows x 10 columns]"
      ]
     },
     "execution_count": 54,
     "metadata": {},
     "output_type": "execute_result"
    }
   ],
   "source": [
    "churn_zscore"
   ]
  },
  {
   "cell_type": "code",
   "execution_count": 60,
   "metadata": {},
   "outputs": [],
   "source": [
    "z_scores = stats.zscore(churn_zscore)\n",
    "# calculate z-scores of `df`\n",
    "\n",
    "abs_z_scores = np.abs(z_scores)\n",
    "filtered_entries = (abs_z_scores < 3).all(axis=1)\n",
    "churn_clean = churn_brand_scaled[filtered_entries]"
   ]
  },
  {
   "cell_type": "code",
   "execution_count": 61,
   "metadata": {},
   "outputs": [
    {
     "data": {
      "text/plain": [
       "array([ True,  True,  True, ...,  True,  True,  True])"
      ]
     },
     "execution_count": 61,
     "metadata": {},
     "output_type": "execute_result"
    }
   ],
   "source": [
    "filtered_entries"
   ]
  },
  {
   "cell_type": "code",
   "execution_count": 69,
   "metadata": {},
   "outputs": [
    {
     "name": "stdout",
     "output_type": "stream",
     "text": [
      "7.086801942421089\n"
     ]
    }
   ],
   "source": [
    "print((len(churn_brand_scaled) - len(churn_clean))/len(churn_brand_scaled)*100)"
   ]
  },
  {
   "cell_type": "markdown",
   "metadata": {},
   "source": [
    "We droped about 7% entries as outliers"
   ]
  },
  {
   "cell_type": "markdown",
   "metadata": {},
   "source": [
    "# Feature Selection"
   ]
  },
  {
   "cell_type": "code",
   "execution_count": 70,
   "metadata": {},
   "outputs": [],
   "source": [
    "hm =  churn_clean[['ACCOUNT_TENURE', 'ACCT_CNT_SERVICES', 'AGE',  'SERVICE_TENURE',\n",
    "       'PLAN_ACCESS_FEE',  'PLAN_TENURE',\n",
    "       'MONTHS_OF_CONTRACT_REMAINING', 'LAST_FX_CONTRACT_DURATION',\n",
    "        'PREV_CONTRACT_DURATION', \n",
    "       'MONTHLY_SPEND','CHURN_IND']]"
   ]
  },
  {
   "cell_type": "code",
   "execution_count": 71,
   "metadata": {},
   "outputs": [
    {
     "data": {
      "text/plain": [
       "<AxesSubplot:>"
      ]
     },
     "execution_count": 71,
     "metadata": {},
     "output_type": "execute_result"
    },
    {
     "data": {
      "image/png": "[encoded data removed]",
      "text/plain": [
       "<Figure size 1440x720 with 2 Axes>"
      ]
     },
     "metadata": {
      "needs_background": "light"
     },
     "output_type": "display_data"
    }
   ],
   "source": [
    "f, ax = plt.subplots(figsize=(20, 10))\n",
    "# cmap = sns.diverging_palette(20, 200, as_cmap=True)\n",
    "sns.heatmap(hm.corr(), annot=True, cmap ='RdYlGn',\n",
    "square=True, linewidths=.5, cbar_kws={\"shrink\": .5})\n"
   ]
  },
  {
   "cell_type": "markdown",
   "metadata": {},
   "source": [
    "We can see high correlation between - \n",
    "1. SERVICE_TENURE and ACCOUNT_Tenure\n",
    "1. Account Tenure and Previous Contract Duration\n",
    "2. Previous Contract Duration and LAST_FX_CONTRACT_DURATION\n",
    "3. PLAN_ACCESS_FEE and MONTHLY_SPEND"
   ]
  },
  {
   "cell_type": "markdown",
   "metadata": {},
   "source": [
    "# ANOVA Analysis to get F-Score and eliminate some features"
   ]
  },
  {
   "cell_type": "code",
   "execution_count": 72,
   "metadata": {},
   "outputs": [
    {
     "data": {
      "text/plain": [
       "Index(['ACCOUNT_TENURE', 'ACCT_CNT_SERVICES', 'AGE', 'SERVICE_TENURE',\n",
       "       'PLAN_ACCESS_FEE', 'PLAN_TENURE', 'MONTHS_OF_CONTRACT_REMAINING',\n",
       "       'LAST_FX_CONTRACT_DURATION', 'PREV_CONTRACT_DURATION', 'MONTHLY_SPEND',\n",
       "       'CHURN_IND'],\n",
       "      dtype='object')"
      ]
     },
     "execution_count": 72,
     "metadata": {},
     "output_type": "execute_result"
    }
   ],
   "source": [
    "hm.columns"
   ]
  },
  {
   "cell_type": "code",
   "execution_count": 87,
   "metadata": {},
   "outputs": [],
   "source": [
    "X = churn_clean[['ACCOUNT_TENURE', 'ACCT_CNT_SERVICES', 'AGE', 'SERVICE_TENURE',\n",
    "       'PLAN_ACCESS_FEE', 'PLAN_TENURE', 'MONTHS_OF_CONTRACT_REMAINING',\n",
    "       'LAST_FX_CONTRACT_DURATION', 'PREV_CONTRACT_DURATION', 'MONTHLY_SPEND']]\n",
    "y= churn_clean['CHURN_IND']"
   ]
  },
  {
   "cell_type": "code",
   "execution_count": 74,
   "metadata": {},
   "outputs": [],
   "source": [
    "from sklearn.feature_selection import SelectKBest\n",
    "from sklearn.feature_selection import f_classif"
   ]
  },
  {
   "cell_type": "code",
   "execution_count": 88,
   "metadata": {},
   "outputs": [
    {
     "name": "stdout",
     "output_type": "stream",
     "text": [
      "F-score and P-values respectively :  870.66 and 0.0000000  for feature  ACCOUNT_TENURE\n",
      "F-score and P-values respectively :  160.09 and 0.0000000  for feature  ACCT_CNT_SERVICES\n",
      "F-score and P-values respectively :  538.05 and 0.0000000  for feature  AGE\n",
      "F-score and P-values respectively :  923.40 and 0.0000000  for feature  SERVICE_TENURE\n",
      "F-score and P-values respectively :  121.41 and 0.0000000  for feature  PLAN_ACCESS_FEE\n",
      "F-score and P-values respectively :  1076.91 and 0.0000000  for feature  PLAN_TENURE\n",
      "F-score and P-values respectively :  3595.28 and 0.0000000  for feature  MONTHS_OF_CONTRACT_REMAINING\n",
      "F-score and P-values respectively :  266.88 and 0.0000000  for feature  LAST_FX_CONTRACT_DURATION\n",
      "F-score and P-values respectively :  140.20 and 0.0000000  for feature  PREV_CONTRACT_DURATION\n",
      "F-score and P-values respectively :  805.00 and 0.0000000  for feature  MONTHLY_SPEND\n"
     ]
    }
   ],
   "source": [
    "fs = SelectKBest(score_func=f_classif, k=4)\n",
    "# apply feature selection\n",
    "#X_selected = fs.fit_transform(X, y)\n",
    "#print(X_selected.shape)\n",
    "fit = fs.fit(X, y)\n",
    "#print(fit.scores_)\n",
    "#print(fit.pvalues_)\n",
    "\n",
    "for n,s,p in zip(X.columns,fit.scores_,fit.pvalues_):\n",
    "    print(\"F-score and P-values respectively : \", \"{:.2f}\".format(s),\"and\", \"{:.7f}\".format(p), \" for feature \", n)"
   ]
  },
  {
   "cell_type": "markdown",
   "metadata": {},
   "source": [
    "P value is very low and hence we can reject the null hypothesis\n",
    "We can drop PLAN_ACCESS_FEE, PREV_CONTRACT_DURATION, ACCT_CNT_SERVICES and LAST_FX_CONTRACT_DURATION  due to Low F values"
   ]
  },
  {
   "cell_type": "code",
   "execution_count": 79,
   "metadata": {},
   "outputs": [
    {
     "data": {
      "image/png": "[encoded data removed]",
      "text/plain": [
       "<Figure size 432x288 with 1 Axes>"
      ]
     },
     "metadata": {
      "needs_background": "light"
     },
     "output_type": "display_data"
    }
   ],
   "source": [
    "plt.title('ANOVA - F values')\n",
    "plt.xlabel('Features')\n",
    "plt.ylabel('F values')\n",
    "plt.bar(X.columns, fit.scores_)\n",
    "plt.xticks(range(len(X.columns)), X.columns, rotation='vertical')\n",
    "plt.show()"
   ]
  },
  {
   "cell_type": "markdown",
   "metadata": {},
   "source": [
    "# SVM Model"
   ]
  },
  {
   "cell_type": "code",
   "execution_count": 115,
   "metadata": {},
   "outputs": [],
   "source": [
    "from sklearn.svm import SVC \n",
    "from sklearn.metrics import *"
   ]
  },
  {
   "cell_type": "code",
   "execution_count": 84,
   "metadata": {},
   "outputs": [],
   "source": [
    "from sklearn.model_selection import train_test_split\n",
    "from sklearn.metrics import confusion_matrix"
   ]
  },
  {
   "cell_type": "code",
   "execution_count": 81,
   "metadata": {},
   "outputs": [
    {
     "data": {
      "text/plain": [
       "Index(['ACCOUNT_TENURE', 'ACCT_CNT_SERVICES', 'AGE', 'CFU', 'SERVICE_TENURE',\n",
       "       'PLAN_ACCESS_FEE', 'BYO_PLAN_STATUS', 'PLAN_TENURE',\n",
       "       'MONTHS_OF_CONTRACT_REMAINING', 'LAST_FX_CONTRACT_DURATION',\n",
       "       'CONTRACT_STATUS', 'PREV_CONTRACT_DURATION', 'CHURN_IND',\n",
       "       'MONTHLY_SPEND', 'COUNTRY_METRO_REGION', 'BRAND_0', 'BRAND_1',\n",
       "       'BRAND_2', 'BRAND_3', 'BRAND_4', 'BRAND_5'],\n",
       "      dtype='object')"
      ]
     },
     "execution_count": 81,
     "metadata": {},
     "output_type": "execute_result"
    }
   ],
   "source": [
    "churn_clean.columns"
   ]
  },
  {
   "cell_type": "code",
   "execution_count": 101,
   "metadata": {},
   "outputs": [],
   "source": [
    "X =churn_clean[['ACCOUNT_TENURE',  'AGE', 'CFU', 'SERVICE_TENURE',\n",
    "        'BYO_PLAN_STATUS', 'PLAN_TENURE',\n",
    "       'MONTHS_OF_CONTRACT_REMAINING', \n",
    "       'CONTRACT_STATUS',  'CHURN_IND',\n",
    "       'MONTHLY_SPEND', 'COUNTRY_METRO_REGION', 'BRAND_0', 'BRAND_1',\n",
    "       'BRAND_2', 'BRAND_3', 'BRAND_4', 'BRAND_5']]\n",
    "y= churn_clean['CHURN_IND']"
   ]
  },
  {
   "cell_type": "code",
   "execution_count": 142,
   "metadata": {},
   "outputs": [],
   "source": [
    "X_train, X_test, y_train, y_test = train_test_split( X, y, test_size = 0.2, random_state=42)"
   ]
  },
  {
   "cell_type": "code",
   "execution_count": 134,
   "metadata": {},
   "outputs": [
    {
     "data": {
      "text/plain": [
       "SVC()"
      ]
     },
     "execution_count": 134,
     "metadata": {},
     "output_type": "execute_result"
    }
   ],
   "source": [
    "svm = SVC(kernel ='rbf')\n",
    "svm.fit(X_train, y_train)"
   ]
  },
  {
   "cell_type": "code",
   "execution_count": 135,
   "metadata": {},
   "outputs": [],
   "source": [
    "y_pred = svm.predict(X_test)"
   ]
  },
  {
   "cell_type": "code",
   "execution_count": 143,
   "metadata": {},
   "outputs": [],
   "source": [
    "cm = confusion_matrix(y_test, y_pred)\n",
    "sns.heatmap(cm, annot = True, xticklabels = ['Churn = 0','Churn = 1'], yticklabels = ['Churn = 0','Churn = 1'])\n",
    "plt.xlabel('Predicted')\n",
    "plt.ylabel('Target')\n",
    "plt.title('Connfusion Matrix')\n",
    "plt.show()"
   ]
  },
  {
   "cell_type": "code",
   "execution_count": 137,
   "metadata": {},
   "outputs": [],
   "source": [
    "from sklearn.metrics import classification_report"
   ]
  },
  {
   "cell_type": "code",
   "execution_count": 144,
   "metadata": {},
   "outputs": [],
   "source": [
    "print(classification_report(y_test,y_pred))"
   ]
  },
  {
   "cell_type": "code",
   "execution_count": null,
   "metadata": {},
   "outputs": [],
   "source": []
  }
 ],
 "metadata": {
  "kernelspec": {
   "display_name": "Python 3",
   "language": "python",
   "name": "python3"
  },
  "language_info": {
   "codemirror_mode": {
    "name": "ipython",
    "version": 3
   },
   "file_extension": ".py",
   "mimetype": "text/x-python",
   "name": "python",
   "nbconvert_exporter": "python",
   "pygments_lexer": "ipython3",
   "version": "3.8.8"
  }
 },
 "nbformat": 4,
 "nbformat_minor": 4
}
